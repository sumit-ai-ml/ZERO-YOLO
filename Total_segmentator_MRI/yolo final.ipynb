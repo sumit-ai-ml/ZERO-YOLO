{
 "cells": [
  {
   "cell_type": "code",
   "execution_count": null,
   "id": "f15c0741",
   "metadata": {},
   "outputs": [],
   "source": [
    "\n"
   ]
  },
  {
   "cell_type": "code",
   "execution_count": 1,
   "id": "01fa4c58",
   "metadata": {},
   "outputs": [],
   "source": [
    "from pathlib import Path\n",
    "yaml_content = f'''\n",
    "train: /home/sumitpandey/Documents/MED-YOLO/CT/dataset/train/images\n",
    "val: /home/sumitpandey/Documents/MED-YOLO/CT/dataset/val/images\n",
    "test: /home/sumitpandey/Documents/MED-YOLO/CT/dataset/test/images\n",
    "\n",
    "names:\n",
    "    0: 'adrenal_gland_left'\n",
    "    1: 'adrenal_gland_right'\n",
    "    2: 'aorta'\n",
    "    3: 'atrial_appendage_left'\n",
    "    4: 'autochthon_left'\n",
    "    5: 'autochthon_right'\n",
    "    6: 'brachiocephalic_trunk'\n",
    "    7: 'brachiocephalic_vein_left'\n",
    "    8: 'brachiocephalic_vein_right'\n",
    "    9: 'brain'\n",
    "    10: 'clavicula_left'\n",
    "    11: 'clavicula_right'\n",
    "    12: 'colon'\n",
    "    13: 'common_carotid_artery_left'\n",
    "    14: 'common_carotid_artery_right'\n",
    "    15: 'costal_cartilages'\n",
    "    16: 'duodenum'\n",
    "    17: 'esophagus'\n",
    "    18: 'femur_left'\n",
    "    19: 'femur_right'\n",
    "    20: 'gallbladder'\n",
    "    21: 'gluteus_maximus_left'\n",
    "    22: 'gluteus_maximus_right'\n",
    "    23: 'gluteus_medius_left'\n",
    "    24: 'gluteus_medius_right'\n",
    "    25: 'gluteus_minimus_left'\n",
    "    26: 'gluteus_minimus_right'\n",
    "    27: 'heart'\n",
    "    28: 'hip_left'\n",
    "    29: 'hip_right'\n",
    "    30: 'humerus_left'\n",
    "    31: 'humerus_right'\n",
    "    32: 'iliac_artery_left'\n",
    "    33: 'iliac_artery_right'\n",
    "    34: 'iliac_vena_left'\n",
    "    35: 'iliac_vena_right'\n",
    "    36: 'iliopsoas_left'\n",
    "    37: 'iliopsoas_right'\n",
    "    38: 'inferior_vena_cava'\n",
    "    39: 'kidney_cyst_left'\n",
    "    40: 'kidney_cyst_right'\n",
    "    41: 'kidney_left'\n",
    "    42: 'kidney_right'\n",
    "    43: 'liver'\n",
    "    44: 'lung_lower_lobe_left'\n",
    "    45: 'lung_lower_lobe_right'\n",
    "    46: 'lung_middle_lobe_right'\n",
    "    47: 'lung_upper_lobe_left'\n",
    "    48: 'lung_upper_lobe_right'\n",
    "    49: 'pancreas'\n",
    "    50: 'portal_vein_and_splenic_vein'\n",
    "    51: 'prostate'\n",
    "    52: 'pulmonary_vein'\n",
    "    53: 'rib_left_1'\n",
    "    54: 'rib_left_10'\n",
    "    55: 'rib_left_11'\n",
    "    56: 'rib_left_12'\n",
    "    57: 'rib_left_2'\n",
    "    58: 'rib_left_3'\n",
    "    59: 'rib_left_4'\n",
    "    60: 'rib_left_5'\n",
    "    61: 'rib_left_6'\n",
    "    62: 'rib_left_7'\n",
    "    63: 'rib_left_8'\n",
    "    64: 'rib_left_9'\n",
    "    65: 'rib_right_1'\n",
    "    66: 'rib_right_10'\n",
    "    67: 'rib_right_11'\n",
    "    68: 'rib_right_12'\n",
    "    69: 'rib_right_2'\n",
    "    70: 'rib_right_3'\n",
    "    71: 'rib_right_4'\n",
    "    72: 'rib_right_5'\n",
    "    73: 'rib_right_6'\n",
    "    74: 'rib_right_7'\n",
    "    75: 'rib_right_8'\n",
    "    76: 'rib_right_9'\n",
    "    77: 'sacrum'\n",
    "    78: 'scapula_left'\n",
    "    79: 'scapula_right'\n",
    "    80: 'skull'\n",
    "    81: 'small_bowel'\n",
    "    82: 'spinal_cord'\n",
    "    83: 'spleen'\n",
    "    84: 'sternum'\n",
    "    85: 'stomach'\n",
    "    86: 'subclavian_artery_left'\n",
    "    87: 'subclavian_artery_right'\n",
    "    88: 'superior_vena_cava'\n",
    "    89: 'thyroid_gland'\n",
    "    90: 'trachea'\n",
    "    91: 'urinary_bladder'\n",
    "    92: 'vertebrae_C1'\n",
    "    93: 'vertebrae_C2'\n",
    "    94: 'vertebrae_C3'\n",
    "    95: 'vertebrae_C4'\n",
    "    96: 'vertebrae_C5'\n",
    "    97: 'vertebrae_C6'\n",
    "    98: 'vertebrae_C7'\n",
    "    99: 'vertebrae_L1'\n",
    "    100: 'vertebrae_L2'\n",
    "    101: 'vertebrae_L3'\n",
    "    102: 'vertebrae_L4'\n",
    "    103: 'vertebrae_L5'\n",
    "    104: 'vertebrae_S1'\n",
    "    105: 'vertebrae_T1'\n",
    "    106: 'vertebrae_T10'\n",
    "    107: 'vertebrae_T11'\n",
    "    108: 'vertebrae_T12'\n",
    "    109: 'vertebrae_T2'\n",
    "    110: 'vertebrae_T3'\n",
    "    111: 'vertebrae_T4'\n",
    "    112: 'vertebrae_T5'\n",
    "    113: 'vertebrae_T6'\n",
    "    114: 'vertebrae_T7'\n",
    "    115: 'vertebrae_T8'\n",
    "    116: 'vertebrae_T9'\n",
    "\n",
    "# Hyperparameters ------------------------------------------------------------------------------------------------------\n",
    "# lr0: 0.01  # initial learning rate (i.e. SGD=1E-2, Adam=1E-3)\n",
    "# lrf: 0.01  # final learning rate (lr0 * lrf)\n",
    "# momentum: 0.937  # SGD momentum/Adam beta1\n",
    "# weight_decay: 0.0005  # optimizer weight decay 5e-4\n",
    "# warmup_epochs: 3.0  # warmup epochs (fractions ok)\n",
    "# warmup_momentum: 0.8  # warmup initial momentum\n",
    "# warmup_bias_lr: 0.1  # warmup initial bias lr\n",
    "# box: 7.5  # box loss gain\n",
    "# cls: 0.5  # cls loss gain (scale with pixels)\n",
    "# dfl: 1.5  # dfl loss gain\n",
    "# pose: 12.0  # pose loss gain\n",
    "# kobj: 1.0  # keypoint obj loss gain\n",
    "# label_smoothing: 0.0  # label smoothing (fraction)\n",
    "# nbs: 64  # nominal batch size\n",
    "# hsv_h: 0.015  # image HSV-Hue augmentation (fraction)\n",
    "# hsv_s: 0.7  # image HSV-Saturation augmentation (fraction)\n",
    "# hsv_v: 0.4  # image HSV-Value augmentation (fraction)\n",
    "degrees: 0.5  # image rotation (+/- deg)\n",
    "translate: 0.1  # image translation (+/- fraction)\n",
    "scale: 0.2  # image scale (+/- gain)\n",
    "shear: 0.2  # image shear (+/- deg) from -0.5 to 0.5\n",
    "perspective: 0.1  # image perspective (+/- fraction), range 0-0.001\n",
    "flipud: 0.7  # image flip up-down (probability)\n",
    "fliplr: 0.5  # image flip left-right (probability)\n",
    "mosaic: 0.8  # image mosaic (probability)\n",
    "mixup: 0.1  # image mixup (probability)\n",
    "# copy_paste: 0.0  # segment copy-paste (probability)\n",
    "    '''\n",
    "    \n",
    "with Path('data.yaml').open('w') as f:\n",
    "    f.write(yaml_content)"
   ]
  },
  {
   "cell_type": "code",
   "execution_count": 1,
   "id": "5b4c8c8b",
   "metadata": {},
   "outputs": [
    {
     "data": {
      "text/plain": [
       "1"
      ]
     },
     "execution_count": 1,
     "metadata": {},
     "output_type": "execute_result"
    }
   ],
   "source": [
    "import torch\n",
    "torch.cuda.device_count()"
   ]
  },
  {
   "cell_type": "code",
   "execution_count": 1,
   "id": "db72441e",
   "metadata": {},
   "outputs": [
    {
     "ename": "NameError",
     "evalue": "name '__file__' is not defined",
     "output_type": "error",
     "traceback": [
      "\u001b[0;31m---------------------------------------------------------------------------\u001b[0m",
      "\u001b[0;31mNameError\u001b[0m                                 Traceback (most recent call last)",
      "Cell \u001b[0;32mIn[1], line 5\u001b[0m\n\u001b[1;32m      1\u001b[0m \u001b[38;5;28;01mfrom\u001b[39;00m \u001b[38;5;21;01mpathlib\u001b[39;00m \u001b[38;5;28;01mimport\u001b[39;00m Path\n\u001b[1;32m      3\u001b[0m \u001b[38;5;28;01mimport\u001b[39;00m \u001b[38;5;21;01mos\u001b[39;00m \n\u001b[0;32m----> 5\u001b[0m script_dir \u001b[38;5;241m=\u001b[39m Path(\u001b[38;5;18;43m__file__\u001b[39;49m)\u001b[38;5;241m.\u001b[39mparent\u001b[38;5;241m.\u001b[39mresolve()\n\u001b[1;32m      6\u001b[0m script_dir\n",
      "\u001b[0;31mNameError\u001b[0m: name '__file__' is not defined"
     ]
    }
   ],
   "source": [
    "from pathlib import Path\n",
    "\n",
    "import os \n",
    "\n",
    "script_dir = Path(__file__).parent.resolve()\n",
    "script_dir"
   ]
  },
  {
   "cell_type": "code",
   "execution_count": null,
   "id": "c65f6e9d",
   "metadata": {},
   "outputs": [],
   "source": []
  },
  {
   "cell_type": "code",
   "execution_count": null,
   "id": "11ab234c",
   "metadata": {},
   "outputs": [],
   "source": [
    "# get the path of the current file\n"
   ]
  },
  {
   "cell_type": "code",
   "execution_count": 36,
   "id": "3d5689d6",
   "metadata": {},
   "outputs": [
    {
     "name": "stdout",
     "output_type": "stream",
     "text": [
      "MRI_data/s0049/mri.nii.gz\n",
      "(14, 384, 384)\n",
      "(384, 384, 14)\n"
     ]
    }
   ],
   "source": [
    "import glob \n",
    "import nibabel as nib\n",
    "import numpy as np\n",
    "\n",
    "def get_data(path):\n",
    "    data = nib.load(path)\n",
    "    data_ = data.get_fdata()\n",
    "    affine = data.affine\n",
    "    return data_, affine \n",
    "\n",
    "file = glob.glob('MRI_data/*/*.nii.gz')\n",
    "data, af = get_data(file[5])\n",
    "print(file[5])\n",
    "print(data.shape)\n",
    "\n",
    "# get the least number of dimension \n",
    "min_dim = min(data.shape)\n",
    "min_dim\n",
    "\n",
    "# make sure min_dim is on the 3rd axis\n",
    "if min_dim == data.shape[0]:\n",
    "    data = np.moveaxis(data, 0, -1)\n",
    "\n",
    "print(data.shape)\n",
    "\n",
    "# save the data as nii.gz file \n",
    "nib.save(nib.Nifti1Image(data, af), 'test.nii.gz')     "
   ]
  },
  {
   "cell_type": "code",
   "execution_count": 103,
   "id": "11dfaec9",
   "metadata": {},
   "outputs": [
    {
     "name": "stdout",
     "output_type": "stream",
     "text": [
      "298 298\n"
     ]
    },
    {
     "name": "stderr",
     "output_type": "stream",
     "text": [
      "100%|██████████| 298/298 [04:29<00:00,  1.10it/s]\n"
     ]
    }
   ],
   "source": [
    "import glob\n",
    "import nibabel as nib\n",
    "import numpy as np\n",
    "import os\n",
    "import tqdm \n",
    "import m_yolo\n",
    "from m_yolo.preprocess import process_mri_data\n",
    "# Example usage\n",
    "\n",
    "img_file = glob.glob('dataset_nii/*/images/*')\n",
    "seg_file = glob.glob('dataset_nii/*/labels/*')\n",
    "print(len(img_file), len(seg_file))\n",
    "\n",
    "\n",
    "for i in tqdm.tqdm(range(len(img_file))):\n",
    "    # 'dataset_nii' to 'dataset_nii_processed'\n",
    "    process_mri_data(img_file[i], img_file[i])\n",
    "    process_mri_data(seg_file[i], seg_file[i])    "
   ]
  },
  {
   "cell_type": "code",
   "execution_count": 77,
   "id": "42054985",
   "metadata": {},
   "outputs": [
    {
     "data": {
      "text/plain": [
       "('dataset_nii_processed/val/images/s0047.nii.gz',\n",
       " 'dataset_nii/val/images/s0047.nii.gz')"
      ]
     },
     "execution_count": 77,
     "metadata": {},
     "output_type": "execute_result"
    }
   ],
   "source": [
    "import glob \n",
    "original_file = glob.glob('dataset_nii/val/images/*')\n",
    "final_file = glob.glob('dataset_nii_processed/val/images/*')\n",
    "\n",
    "final_file[0], original_file[0]"
   ]
  },
  {
   "cell_type": "code",
   "execution_count": 78,
   "id": "7f088ba5",
   "metadata": {},
   "outputs": [
    {
     "name": "stdout",
     "output_type": "stream",
     "text": [
      "(768, 864, 16) (16, 768, 864)\n",
      "dataset_nii_processed/val/images/s0130.nii.gz\n"
     ]
    }
   ],
   "source": [
    "\n"
   ]
  },
  {
   "cell_type": "markdown",
   "id": "da04bf54",
   "metadata": {},
   "source": [
    "# after training"
   ]
  },
  {
   "cell_type": "code",
   "execution_count": 102,
   "id": "18f075f4",
   "metadata": {},
   "outputs": [
    {
     "name": "stdout",
     "output_type": "stream",
     "text": [
      "(320, 360, 240) (320, 240, 360)\n",
      "dataset_nii_processed/val/images/s0175.nii.gz\n",
      "Original image shape: (320, 240, 360)\n",
      "Other image shape (before): (320, 360, 240)\n",
      "Other image shape (after): (320, 240, 360)\n"
     ]
    }
   ],
   "source": [
    "import numpy as np\n",
    "\n",
    "def reshape_to_match(original_image, other_image):\n",
    "    \"\"\"\n",
    "    Reshape `other_image` to match the shape of `original_image` by:\n",
    "    1. Permuting axes based on matching dimension sizes.\n",
    "    2. Slicing or padding each dimension to match the target shape.\n",
    "\n",
    "    Parameters:\n",
    "    - original_image (numpy.ndarray): Reference image with target shape.\n",
    "    - other_image (numpy.ndarray): Image to be reshaped.\n",
    "\n",
    "    Returns:\n",
    "    - numpy.ndarray: Reshaped `other_image` with the same shape as `original_image`.\n",
    "    \"\"\"\n",
    "    original_shape = original_image.shape\n",
    "    other_shape = other_image.shape\n",
    "\n",
    "    # Step 1: Permute axes to match original_image's axes based on size\n",
    "    permutation = []\n",
    "    used_axes = set()\n",
    "\n",
    "    for o_size in original_shape:\n",
    "        # Find axis in other_shape that matches the current original dimension size\n",
    "        matched_axis = None\n",
    "        for i, size in enumerate(other_shape):\n",
    "            if size == o_size and i not in used_axes:\n",
    "                matched_axis = i\n",
    "                break\n",
    "        if matched_axis is not None:\n",
    "            permutation.append(matched_axis)\n",
    "            used_axes.add(matched_axis)\n",
    "        else:\n",
    "            # If exact match not found, find the closest size\n",
    "            closest_axis = min(\n",
    "                [(i, abs(o_size - size)) for i, size in enumerate(other_shape) if i not in used_axes],\n",
    "                key=lambda x: x[1],\n",
    "                default=(None, None)\n",
    "            )\n",
    "            if closest_axis[0] is not None:\n",
    "                permutation.append(closest_axis[0])\n",
    "                used_axes.add(closest_axis[0])\n",
    "            else:\n",
    "                raise ValueError(\"Cannot find a suitable axis to match.\")\n",
    "\n",
    "    # Permute the other_image axes\n",
    "    try:\n",
    "        permuted_other = other_image.transpose(permutation)\n",
    "    except Exception as e:\n",
    "        raise ValueError(f\"Error in transposing axes: {e}\")\n",
    "\n",
    "    # Step 2: Initialize the reshaped image with zeros\n",
    "    reshaped = np.zeros(original_shape, dtype=permuted_other.dtype)\n",
    "\n",
    "    # Step 3: Determine slicing indices for each dimension\n",
    "    slices_original = []\n",
    "    slices_other = []\n",
    "    for o_dim, p_dim in zip(original_shape, permuted_other.shape):\n",
    "        min_dim = min(o_dim, p_dim)\n",
    "        slices_original.append(slice(0, min_dim))\n",
    "        slices_other.append(slice(0, min_dim))\n",
    "\n",
    "    # Step 4: Assign the overlapping region from permuted_other to reshaped\n",
    "    reshaped[tuple(slices_original)] = permuted_other[tuple(slices_other)]\n",
    "\n",
    "    return reshaped\n",
    "\n",
    "i = 11\n",
    "# Example usage\n",
    "final, _ = get_data(final_file[i])\n",
    "original, _ = get_data(original_file[i])\n",
    "print(final.shape, original.shape)\n",
    "print(final_file[i])\n",
    "\n",
    "reshaped_image = reshape_to_match(original, final)\n",
    "\n",
    "print(\"Original image shape:\", original.shape)\n",
    "print(\"Other image shape (before):\", final.shape)\n",
    "print(\"Other image shape (after):\", reshaped_image.shape)\n",
    "\n",
    "# save reshaped_image as nii image \n",
    "\n",
    "nib.save(nib.Nifti1Image(reshaped_image, _), 'output_file.nii.gz')"
   ]
  },
  {
   "cell_type": "code",
   "execution_count": 82,
   "id": "3d5bddcc",
   "metadata": {},
   "outputs": [
    {
     "data": {
      "text/plain": [
       "(16, 768, 864)"
      ]
     },
     "execution_count": 82,
     "metadata": {},
     "output_type": "execute_result"
    }
   ],
   "source": [
    "reshaped_image.shape"
   ]
  },
  {
   "cell_type": "code",
   "execution_count": null,
   "id": "ed8a98ad",
   "metadata": {},
   "outputs": [],
   "source": []
  }
 ],
 "metadata": {
  "kernelspec": {
   "display_name": "med_yolo",
   "language": "python",
   "name": "python3"
  },
  "language_info": {
   "codemirror_mode": {
    "name": "ipython",
    "version": 3
   },
   "file_extension": ".py",
   "mimetype": "text/x-python",
   "name": "python",
   "nbconvert_exporter": "python",
   "pygments_lexer": "ipython3",
   "version": "3.11.10"
  }
 },
 "nbformat": 4,
 "nbformat_minor": 5
}
