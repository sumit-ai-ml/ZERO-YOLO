{
 "cells": [
  {
   "cell_type": "markdown",
   "metadata": {},
   "source": [
    "# combine masks based on labels "
   ]
  },
  {
   "cell_type": "code",
   "execution_count": 3,
   "metadata": {},
   "outputs": [
    {
     "data": {
      "text/plain": [
       "'adrenal_gland_left.nii.gz'"
      ]
     },
     "execution_count": 3,
     "metadata": {},
     "output_type": "execute_result"
    }
   ],
   "source": [
    "# save it to excel file \n",
    "import pandas as pd\n",
    "df = pd.read_excel('label_names.xlsx')\n",
    "\n",
    "df.head()\n",
    "label_names = df['label_names'].tolist()\n",
    "label_names[0]"
   ]
  },
  {
   "cell_type": "code",
   "execution_count": 52,
   "metadata": {},
   "outputs": [
    {
     "name": "stderr",
     "output_type": "stream",
     "text": [
      "100%|██████████| 56/56 [01:15<00:00,  1.35s/it]\n"
     ]
    },
    {
     "name": "stdout",
     "output_type": "stream",
     "text": [
      "New/s0001/segmentations Labels in mask: 32 Length: 32\n"
     ]
    },
    {
     "name": "stderr",
     "output_type": "stream",
     "text": [
      "100%|██████████| 56/56 [00:16<00:00,  3.48it/s]\n"
     ]
    },
    {
     "name": "stdout",
     "output_type": "stream",
     "text": [
      "New/s0002/segmentations Labels in mask: 26 Length: 26\n"
     ]
    },
    {
     "name": "stderr",
     "output_type": "stream",
     "text": [
      "100%|██████████| 56/56 [00:02<00:00, 20.51it/s]\n"
     ]
    },
    {
     "name": "stdout",
     "output_type": "stream",
     "text": [
      "New/s0003/segmentations Labels in mask: 2 Length: 2\n"
     ]
    },
    {
     "name": "stderr",
     "output_type": "stream",
     "text": [
      "100%|██████████| 56/56 [00:05<00:00, 10.95it/s]\n"
     ]
    },
    {
     "name": "stdout",
     "output_type": "stream",
     "text": [
      "New/s0004/segmentations Labels in mask: 10 Length: 10\n"
     ]
    },
    {
     "name": "stderr",
     "output_type": "stream",
     "text": [
      "100%|██████████| 56/56 [00:01<00:00, 38.93it/s]\n"
     ]
    },
    {
     "name": "stdout",
     "output_type": "stream",
     "text": [
      "New/s0005/segmentations Labels in mask: 26 Length: 26\n"
     ]
    },
    {
     "name": "stderr",
     "output_type": "stream",
     "text": [
      "100%|██████████| 56/56 [00:01<00:00, 50.89it/s]\n"
     ]
    },
    {
     "name": "stdout",
     "output_type": "stream",
     "text": [
      "New/s0006/segmentations Labels in mask: 29 Length: 29\n"
     ]
    },
    {
     "name": "stderr",
     "output_type": "stream",
     "text": [
      "100%|██████████| 56/56 [00:15<00:00,  3.59it/s]\n"
     ]
    },
    {
     "name": "stdout",
     "output_type": "stream",
     "text": [
      "New/s0007/segmentations Labels in mask: 35 Length: 35\n"
     ]
    },
    {
     "name": "stderr",
     "output_type": "stream",
     "text": [
      "100%|██████████| 56/56 [00:03<00:00, 14.66it/s]\n"
     ]
    },
    {
     "name": "stdout",
     "output_type": "stream",
     "text": [
      "New/s0008/segmentations Labels in mask: 34 Length: 34\n"
     ]
    },
    {
     "name": "stderr",
     "output_type": "stream",
     "text": [
      "100%|██████████| 56/56 [00:02<00:00, 20.03it/s]\n"
     ]
    },
    {
     "name": "stdout",
     "output_type": "stream",
     "text": [
      "New/s0009/segmentations Labels in mask: 34 Length: 34\n"
     ]
    },
    {
     "name": "stderr",
     "output_type": "stream",
     "text": [
      "100%|██████████| 56/56 [01:58<00:00,  2.12s/it]\n"
     ]
    },
    {
     "name": "stdout",
     "output_type": "stream",
     "text": [
      "New/s0010/segmentations Labels in mask: 27 Length: 27\n"
     ]
    },
    {
     "name": "stderr",
     "output_type": "stream",
     "text": [
      "100%|██████████| 56/56 [00:26<00:00,  2.08it/s]\n"
     ]
    },
    {
     "name": "stdout",
     "output_type": "stream",
     "text": [
      "New/s0011/segmentations Labels in mask: 36 Length: 36\n"
     ]
    },
    {
     "name": "stderr",
     "output_type": "stream",
     "text": [
      "100%|██████████| 56/56 [00:08<00:00,  6.64it/s]\n"
     ]
    },
    {
     "name": "stdout",
     "output_type": "stream",
     "text": [
      "New/s0012/segmentations Labels in mask: 28 Length: 28\n"
     ]
    },
    {
     "name": "stderr",
     "output_type": "stream",
     "text": [
      "100%|██████████| 56/56 [00:01<00:00, 47.14it/s]\n"
     ]
    },
    {
     "name": "stdout",
     "output_type": "stream",
     "text": [
      "New/s0013/segmentations Labels in mask: 29 Length: 29\n"
     ]
    },
    {
     "name": "stderr",
     "output_type": "stream",
     "text": [
      "100%|██████████| 56/56 [00:06<00:00,  8.73it/s]\n"
     ]
    },
    {
     "name": "stdout",
     "output_type": "stream",
     "text": [
      "New/s0014/segmentations Labels in mask: 25 Length: 26\n"
     ]
    },
    {
     "name": "stderr",
     "output_type": "stream",
     "text": [
      "100%|██████████| 56/56 [00:20<00:00,  2.72it/s]\n"
     ]
    },
    {
     "name": "stdout",
     "output_type": "stream",
     "text": [
      "New/s0015/segmentations Labels in mask: 31 Length: 31\n"
     ]
    },
    {
     "name": "stderr",
     "output_type": "stream",
     "text": [
      "100%|██████████| 56/56 [00:10<00:00,  5.53it/s]\n"
     ]
    },
    {
     "name": "stdout",
     "output_type": "stream",
     "text": [
      "New/s0016/segmentations Labels in mask: 35 Length: 35\n"
     ]
    },
    {
     "name": "stderr",
     "output_type": "stream",
     "text": [
      "100%|██████████| 56/56 [00:51<00:00,  1.10it/s]\n"
     ]
    },
    {
     "name": "stdout",
     "output_type": "stream",
     "text": [
      "New/s0017/segmentations Labels in mask: 35 Length: 35\n"
     ]
    },
    {
     "name": "stderr",
     "output_type": "stream",
     "text": [
      "100%|██████████| 56/56 [00:57<00:00,  1.03s/it]\n"
     ]
    },
    {
     "name": "stdout",
     "output_type": "stream",
     "text": [
      "New/s0018/segmentations Labels in mask: 27 Length: 27\n"
     ]
    },
    {
     "name": "stderr",
     "output_type": "stream",
     "text": [
      "100%|██████████| 56/56 [00:06<00:00,  8.09it/s]\n"
     ]
    },
    {
     "name": "stdout",
     "output_type": "stream",
     "text": [
      "New/s0019/segmentations Labels in mask: 36 Length: 36\n"
     ]
    },
    {
     "name": "stderr",
     "output_type": "stream",
     "text": [
      "100%|██████████| 56/56 [00:07<00:00,  7.17it/s]\n"
     ]
    },
    {
     "name": "stdout",
     "output_type": "stream",
     "text": [
      "New/s0020/segmentations Labels in mask: 20 Length: 21\n"
     ]
    },
    {
     "name": "stderr",
     "output_type": "stream",
     "text": [
      "100%|██████████| 56/56 [00:18<00:00,  3.07it/s]\n"
     ]
    },
    {
     "name": "stdout",
     "output_type": "stream",
     "text": [
      "New/s0021/segmentations Labels in mask: 28 Length: 28\n"
     ]
    },
    {
     "name": "stderr",
     "output_type": "stream",
     "text": [
      "100%|██████████| 56/56 [00:02<00:00, 27.47it/s]\n"
     ]
    },
    {
     "name": "stdout",
     "output_type": "stream",
     "text": [
      "New/s0022/segmentations Labels in mask: 43 Length: 43\n"
     ]
    },
    {
     "name": "stderr",
     "output_type": "stream",
     "text": [
      "100%|██████████| 56/56 [00:05<00:00, 10.10it/s]\n"
     ]
    },
    {
     "name": "stdout",
     "output_type": "stream",
     "text": [
      "New/s0023/segmentations Labels in mask: 23 Length: 23\n"
     ]
    },
    {
     "name": "stderr",
     "output_type": "stream",
     "text": [
      "100%|██████████| 56/56 [00:12<00:00,  4.39it/s]\n"
     ]
    },
    {
     "name": "stdout",
     "output_type": "stream",
     "text": [
      "New/s0024/segmentations Labels in mask: 24 Length: 24\n"
     ]
    },
    {
     "name": "stderr",
     "output_type": "stream",
     "text": [
      "100%|██████████| 56/56 [00:06<00:00,  9.14it/s]\n"
     ]
    },
    {
     "name": "stdout",
     "output_type": "stream",
     "text": [
      "New/s0025/segmentations Labels in mask: 27 Length: 27\n"
     ]
    },
    {
     "name": "stderr",
     "output_type": "stream",
     "text": [
      "100%|██████████| 56/56 [00:36<00:00,  1.53it/s]\n"
     ]
    },
    {
     "name": "stdout",
     "output_type": "stream",
     "text": [
      "New/s0026/segmentations Labels in mask: 1 Length: 1\n"
     ]
    },
    {
     "name": "stderr",
     "output_type": "stream",
     "text": [
      "100%|██████████| 56/56 [00:10<00:00,  5.13it/s]\n"
     ]
    },
    {
     "name": "stdout",
     "output_type": "stream",
     "text": [
      "New/s0027/segmentations Labels in mask: 3 Length: 3\n"
     ]
    },
    {
     "name": "stderr",
     "output_type": "stream",
     "text": [
      "100%|██████████| 56/56 [00:06<00:00,  8.06it/s]\n"
     ]
    },
    {
     "name": "stdout",
     "output_type": "stream",
     "text": [
      "New/s0028/segmentations Labels in mask: 27 Length: 27\n"
     ]
    },
    {
     "name": "stderr",
     "output_type": "stream",
     "text": [
      "100%|██████████| 56/56 [00:06<00:00,  9.02it/s]\n"
     ]
    },
    {
     "name": "stdout",
     "output_type": "stream",
     "text": [
      "New/s0029/segmentations Labels in mask: 38 Length: 38\n"
     ]
    },
    {
     "name": "stderr",
     "output_type": "stream",
     "text": [
      "100%|██████████| 56/56 [00:15<00:00,  3.71it/s]\n"
     ]
    },
    {
     "name": "stdout",
     "output_type": "stream",
     "text": [
      "New/s0030/segmentations Labels in mask: 33 Length: 33\n"
     ]
    },
    {
     "name": "stderr",
     "output_type": "stream",
     "text": [
      "100%|██████████| 56/56 [00:13<00:00,  4.22it/s]\n"
     ]
    },
    {
     "name": "stdout",
     "output_type": "stream",
     "text": [
      "New/s0031/segmentations Labels in mask: 27 Length: 27\n"
     ]
    },
    {
     "name": "stderr",
     "output_type": "stream",
     "text": [
      "100%|██████████| 56/56 [00:56<00:00,  1.00s/it]\n"
     ]
    },
    {
     "name": "stdout",
     "output_type": "stream",
     "text": [
      "New/s0032/segmentations Labels in mask: 24 Length: 24\n"
     ]
    },
    {
     "name": "stderr",
     "output_type": "stream",
     "text": [
      "100%|██████████| 56/56 [00:05<00:00,  9.68it/s]\n"
     ]
    },
    {
     "name": "stdout",
     "output_type": "stream",
     "text": [
      "New/s0033/segmentations Labels in mask: 42 Length: 42\n"
     ]
    },
    {
     "name": "stderr",
     "output_type": "stream",
     "text": [
      "100%|██████████| 56/56 [00:02<00:00, 26.91it/s]\n"
     ]
    },
    {
     "name": "stdout",
     "output_type": "stream",
     "text": [
      "New/s0034/segmentations Labels in mask: 21 Length: 21\n"
     ]
    },
    {
     "name": "stderr",
     "output_type": "stream",
     "text": [
      "100%|██████████| 56/56 [00:03<00:00, 17.73it/s]\n"
     ]
    },
    {
     "name": "stdout",
     "output_type": "stream",
     "text": [
      "New/s0035/segmentations Labels in mask: 32 Length: 32\n"
     ]
    },
    {
     "name": "stderr",
     "output_type": "stream",
     "text": [
      "100%|██████████| 56/56 [00:49<00:00,  1.14it/s]\n"
     ]
    },
    {
     "name": "stdout",
     "output_type": "stream",
     "text": [
      "New/s0036/segmentations Labels in mask: 35 Length: 35\n"
     ]
    },
    {
     "name": "stderr",
     "output_type": "stream",
     "text": [
      "100%|██████████| 56/56 [00:03<00:00, 15.13it/s]\n"
     ]
    },
    {
     "name": "stdout",
     "output_type": "stream",
     "text": [
      "New/s0037/segmentations Labels in mask: 29 Length: 29\n"
     ]
    },
    {
     "name": "stderr",
     "output_type": "stream",
     "text": [
      "100%|██████████| 56/56 [00:03<00:00, 16.99it/s]\n"
     ]
    },
    {
     "name": "stdout",
     "output_type": "stream",
     "text": [
      "New/s0038/segmentations Labels in mask: 11 Length: 11\n"
     ]
    },
    {
     "name": "stderr",
     "output_type": "stream",
     "text": [
      "100%|██████████| 56/56 [00:02<00:00, 24.42it/s]\n"
     ]
    },
    {
     "name": "stdout",
     "output_type": "stream",
     "text": [
      "New/s0039/segmentations Labels in mask: 15 Length: 15\n"
     ]
    },
    {
     "name": "stderr",
     "output_type": "stream",
     "text": [
      "100%|██████████| 56/56 [00:02<00:00, 24.62it/s]\n"
     ]
    },
    {
     "name": "stdout",
     "output_type": "stream",
     "text": [
      "New/s0040/segmentations Labels in mask: 14 Length: 14\n"
     ]
    },
    {
     "name": "stderr",
     "output_type": "stream",
     "text": [
      "100%|██████████| 56/56 [00:55<00:00,  1.02it/s]\n"
     ]
    },
    {
     "name": "stdout",
     "output_type": "stream",
     "text": [
      "New/s0041/segmentations Labels in mask: 35 Length: 35\n"
     ]
    },
    {
     "name": "stderr",
     "output_type": "stream",
     "text": [
      "100%|██████████| 56/56 [01:04<00:00,  1.16s/it]\n"
     ]
    },
    {
     "name": "stdout",
     "output_type": "stream",
     "text": [
      "New/s0042/segmentations Labels in mask: 24 Length: 24\n"
     ]
    },
    {
     "name": "stderr",
     "output_type": "stream",
     "text": [
      "100%|██████████| 56/56 [00:09<00:00,  5.92it/s]\n"
     ]
    },
    {
     "name": "stdout",
     "output_type": "stream",
     "text": [
      "New/s0043/segmentations Labels in mask: 17 Length: 17\n"
     ]
    },
    {
     "name": "stderr",
     "output_type": "stream",
     "text": [
      "100%|██████████| 56/56 [00:02<00:00, 26.69it/s]\n"
     ]
    },
    {
     "name": "stdout",
     "output_type": "stream",
     "text": [
      "New/s0044/segmentations Labels in mask: 12 Length: 12\n"
     ]
    },
    {
     "name": "stderr",
     "output_type": "stream",
     "text": [
      "100%|██████████| 56/56 [00:01<00:00, 45.86it/s]\n"
     ]
    },
    {
     "name": "stdout",
     "output_type": "stream",
     "text": [
      "New/s0045/segmentations Labels in mask: 7 Length: 7\n"
     ]
    },
    {
     "name": "stderr",
     "output_type": "stream",
     "text": [
      "100%|██████████| 56/56 [00:16<00:00,  3.41it/s]\n"
     ]
    },
    {
     "name": "stdout",
     "output_type": "stream",
     "text": [
      "New/s0046/segmentations Labels in mask: 11 Length: 11\n"
     ]
    },
    {
     "name": "stderr",
     "output_type": "stream",
     "text": [
      "100%|██████████| 56/56 [00:28<00:00,  1.96it/s]\n"
     ]
    },
    {
     "name": "stdout",
     "output_type": "stream",
     "text": [
      "New/s0047/segmentations Labels in mask: 15 Length: 15\n"
     ]
    },
    {
     "name": "stderr",
     "output_type": "stream",
     "text": [
      "100%|██████████| 56/56 [00:11<00:00,  4.75it/s]\n"
     ]
    },
    {
     "name": "stdout",
     "output_type": "stream",
     "text": [
      "New/s0048/segmentations Labels in mask: 1 Length: 1\n"
     ]
    },
    {
     "name": "stderr",
     "output_type": "stream",
     "text": [
      "100%|██████████| 56/56 [00:01<00:00, 28.18it/s]\n"
     ]
    },
    {
     "name": "stdout",
     "output_type": "stream",
     "text": [
      "New/s0049/segmentations Labels in mask: 7 Length: 7\n"
     ]
    },
    {
     "name": "stderr",
     "output_type": "stream",
     "text": [
      "100%|██████████| 56/56 [00:03<00:00, 14.77it/s]\n"
     ]
    },
    {
     "name": "stdout",
     "output_type": "stream",
     "text": [
      "New/s0050/segmentations Labels in mask: 5 Length: 5\n"
     ]
    },
    {
     "name": "stderr",
     "output_type": "stream",
     "text": [
      "100%|██████████| 56/56 [00:01<00:00, 37.31it/s]\n"
     ]
    },
    {
     "name": "stdout",
     "output_type": "stream",
     "text": [
      "New/s0051/segmentations Labels in mask: 7 Length: 7\n"
     ]
    },
    {
     "name": "stderr",
     "output_type": "stream",
     "text": [
      "100%|██████████| 56/56 [01:14<00:00,  1.33s/it]\n"
     ]
    },
    {
     "name": "stdout",
     "output_type": "stream",
     "text": [
      "New/s0052/segmentations Labels in mask: 10 Length: 10\n"
     ]
    },
    {
     "name": "stderr",
     "output_type": "stream",
     "text": [
      "100%|██████████| 56/56 [00:01<00:00, 34.19it/s]\n"
     ]
    },
    {
     "name": "stdout",
     "output_type": "stream",
     "text": [
      "New/s0053/segmentations Labels in mask: 7 Length: 7\n"
     ]
    },
    {
     "name": "stderr",
     "output_type": "stream",
     "text": [
      "100%|██████████| 56/56 [00:22<00:00,  2.48it/s]\n"
     ]
    },
    {
     "name": "stdout",
     "output_type": "stream",
     "text": [
      "New/s0054/segmentations Labels in mask: 3 Length: 3\n"
     ]
    },
    {
     "name": "stderr",
     "output_type": "stream",
     "text": [
      "100%|██████████| 56/56 [00:27<00:00,  2.02it/s]\n"
     ]
    },
    {
     "name": "stdout",
     "output_type": "stream",
     "text": [
      "New/s0055/segmentations Labels in mask: 5 Length: 5\n"
     ]
    },
    {
     "name": "stderr",
     "output_type": "stream",
     "text": [
      "100%|██████████| 56/56 [00:13<00:00,  4.10it/s]\n"
     ]
    },
    {
     "name": "stdout",
     "output_type": "stream",
     "text": [
      "New/s0056/segmentations Labels in mask: 8 Length: 8\n"
     ]
    },
    {
     "name": "stderr",
     "output_type": "stream",
     "text": [
      "100%|██████████| 56/56 [00:13<00:00,  4.03it/s]\n"
     ]
    },
    {
     "name": "stdout",
     "output_type": "stream",
     "text": [
      "New/s0057/segmentations Labels in mask: 4 Length: 4\n"
     ]
    },
    {
     "name": "stderr",
     "output_type": "stream",
     "text": [
      "100%|██████████| 56/56 [00:09<00:00,  5.93it/s]\n"
     ]
    },
    {
     "name": "stdout",
     "output_type": "stream",
     "text": [
      "New/s0058/segmentations Labels in mask: 2 Length: 2\n"
     ]
    },
    {
     "name": "stderr",
     "output_type": "stream",
     "text": [
      "100%|██████████| 56/56 [00:25<00:00,  2.21it/s]\n"
     ]
    },
    {
     "name": "stdout",
     "output_type": "stream",
     "text": [
      "New/s0059/segmentations Labels in mask: 22 Length: 22\n"
     ]
    },
    {
     "name": "stderr",
     "output_type": "stream",
     "text": [
      "100%|██████████| 56/56 [00:03<00:00, 17.05it/s]\n"
     ]
    },
    {
     "name": "stdout",
     "output_type": "stream",
     "text": [
      "New/s0060/segmentations Labels in mask: 18 Length: 18\n"
     ]
    },
    {
     "name": "stderr",
     "output_type": "stream",
     "text": [
      "100%|██████████| 56/56 [00:15<00:00,  3.72it/s]\n"
     ]
    },
    {
     "name": "stdout",
     "output_type": "stream",
     "text": [
      "New/s0061/segmentations Labels in mask: 5 Length: 5\n"
     ]
    },
    {
     "name": "stderr",
     "output_type": "stream",
     "text": [
      "100%|██████████| 56/56 [00:05<00:00, 10.37it/s]\n"
     ]
    },
    {
     "name": "stdout",
     "output_type": "stream",
     "text": [
      "New/s0062/segmentations Labels in mask: 4 Length: 4\n"
     ]
    },
    {
     "name": "stderr",
     "output_type": "stream",
     "text": [
      "100%|██████████| 56/56 [00:18<00:00,  3.05it/s]\n"
     ]
    },
    {
     "name": "stdout",
     "output_type": "stream",
     "text": [
      "New/s0063/segmentations Labels in mask: 7 Length: 7\n"
     ]
    },
    {
     "name": "stderr",
     "output_type": "stream",
     "text": [
      "100%|██████████| 56/56 [00:10<00:00,  5.28it/s]\n"
     ]
    },
    {
     "name": "stdout",
     "output_type": "stream",
     "text": [
      "New/s0064/segmentations Labels in mask: 43 Length: 43\n"
     ]
    },
    {
     "name": "stderr",
     "output_type": "stream",
     "text": [
      "100%|██████████| 56/56 [00:02<00:00, 27.37it/s]\n"
     ]
    },
    {
     "name": "stdout",
     "output_type": "stream",
     "text": [
      "New/s0065/segmentations Labels in mask: 7 Length: 7\n"
     ]
    },
    {
     "name": "stderr",
     "output_type": "stream",
     "text": [
      "100%|██████████| 56/56 [00:18<00:00,  3.03it/s]\n"
     ]
    },
    {
     "name": "stdout",
     "output_type": "stream",
     "text": [
      "New/s0066/segmentations Labels in mask: 6 Length: 6\n"
     ]
    },
    {
     "name": "stderr",
     "output_type": "stream",
     "text": [
      "100%|██████████| 56/56 [00:04<00:00, 11.78it/s]\n"
     ]
    },
    {
     "name": "stdout",
     "output_type": "stream",
     "text": [
      "New/s0067/segmentations Labels in mask: 7 Length: 7\n"
     ]
    },
    {
     "name": "stderr",
     "output_type": "stream",
     "text": [
      "100%|██████████| 56/56 [00:02<00:00, 19.18it/s]\n"
     ]
    },
    {
     "name": "stdout",
     "output_type": "stream",
     "text": [
      "New/s0068/segmentations Labels in mask: 5 Length: 5\n"
     ]
    },
    {
     "name": "stderr",
     "output_type": "stream",
     "text": [
      "100%|██████████| 56/56 [00:17<00:00,  3.25it/s]\n"
     ]
    },
    {
     "name": "stdout",
     "output_type": "stream",
     "text": [
      "New/s0069/segmentations Labels in mask: 1 Length: 1\n"
     ]
    },
    {
     "name": "stderr",
     "output_type": "stream",
     "text": [
      "100%|██████████| 56/56 [00:03<00:00, 18.10it/s]\n"
     ]
    },
    {
     "name": "stdout",
     "output_type": "stream",
     "text": [
      "New/s0070/segmentations Labels in mask: 3 Length: 3\n"
     ]
    },
    {
     "name": "stderr",
     "output_type": "stream",
     "text": [
      "100%|██████████| 56/56 [00:02<00:00, 27.71it/s]\n"
     ]
    },
    {
     "name": "stdout",
     "output_type": "stream",
     "text": [
      "New/s0071/segmentations Labels in mask: 9 Length: 9\n"
     ]
    },
    {
     "name": "stderr",
     "output_type": "stream",
     "text": [
      "100%|██████████| 56/56 [00:12<00:00,  4.53it/s]\n"
     ]
    },
    {
     "name": "stdout",
     "output_type": "stream",
     "text": [
      "New/s0072/segmentations Labels in mask: 3 Length: 3\n"
     ]
    },
    {
     "name": "stderr",
     "output_type": "stream",
     "text": [
      "100%|██████████| 56/56 [00:22<00:00,  2.48it/s]\n"
     ]
    },
    {
     "name": "stdout",
     "output_type": "stream",
     "text": [
      "New/s0073/segmentations Labels in mask: 12 Length: 12\n"
     ]
    },
    {
     "name": "stderr",
     "output_type": "stream",
     "text": [
      "100%|██████████| 56/56 [00:17<00:00,  3.29it/s]\n"
     ]
    },
    {
     "name": "stdout",
     "output_type": "stream",
     "text": [
      "New/s0074/segmentations Labels in mask: 4 Length: 4\n"
     ]
    },
    {
     "name": "stderr",
     "output_type": "stream",
     "text": [
      "100%|██████████| 56/56 [00:01<00:00, 36.88it/s]\n"
     ]
    },
    {
     "name": "stdout",
     "output_type": "stream",
     "text": [
      "New/s0075/segmentations Labels in mask: 6 Length: 6\n"
     ]
    },
    {
     "name": "stderr",
     "output_type": "stream",
     "text": [
      "100%|██████████| 56/56 [00:03<00:00, 14.37it/s]\n"
     ]
    },
    {
     "name": "stdout",
     "output_type": "stream",
     "text": [
      "New/s0076/segmentations Labels in mask: 2 Length: 2\n"
     ]
    },
    {
     "name": "stderr",
     "output_type": "stream",
     "text": [
      "100%|██████████| 56/56 [00:07<00:00,  7.41it/s]\n"
     ]
    },
    {
     "name": "stdout",
     "output_type": "stream",
     "text": [
      "New/s0077/segmentations Labels in mask: 1 Length: 1\n"
     ]
    },
    {
     "name": "stderr",
     "output_type": "stream",
     "text": [
      "100%|██████████| 56/56 [00:09<00:00,  6.04it/s]\n"
     ]
    },
    {
     "name": "stdout",
     "output_type": "stream",
     "text": [
      "New/s0078/segmentations Labels in mask: 1 Length: 1\n"
     ]
    },
    {
     "name": "stderr",
     "output_type": "stream",
     "text": [
      "100%|██████████| 56/56 [00:02<00:00, 19.63it/s]\n"
     ]
    },
    {
     "name": "stdout",
     "output_type": "stream",
     "text": [
      "New/s0079/segmentations Labels in mask: 7 Length: 7\n"
     ]
    },
    {
     "name": "stderr",
     "output_type": "stream",
     "text": [
      "100%|██████████| 56/56 [00:05<00:00, 10.88it/s]\n"
     ]
    },
    {
     "name": "stdout",
     "output_type": "stream",
     "text": [
      "New/s0080/segmentations Labels in mask: 7 Length: 7\n"
     ]
    },
    {
     "name": "stderr",
     "output_type": "stream",
     "text": [
      "100%|██████████| 56/56 [00:19<00:00,  2.88it/s]\n"
     ]
    },
    {
     "name": "stdout",
     "output_type": "stream",
     "text": [
      "New/s0081/segmentations Labels in mask: 6 Length: 6\n"
     ]
    },
    {
     "name": "stderr",
     "output_type": "stream",
     "text": [
      "100%|██████████| 56/56 [00:05<00:00,  9.73it/s]\n"
     ]
    },
    {
     "name": "stdout",
     "output_type": "stream",
     "text": [
      "New/s0082/segmentations Labels in mask: 7 Length: 7\n"
     ]
    },
    {
     "name": "stderr",
     "output_type": "stream",
     "text": [
      "100%|██████████| 56/56 [00:12<00:00,  4.36it/s]\n"
     ]
    },
    {
     "name": "stdout",
     "output_type": "stream",
     "text": [
      "New/s0083/segmentations Labels in mask: 7 Length: 7\n"
     ]
    },
    {
     "name": "stderr",
     "output_type": "stream",
     "text": [
      "100%|██████████| 56/56 [00:04<00:00, 12.49it/s]\n"
     ]
    },
    {
     "name": "stdout",
     "output_type": "stream",
     "text": [
      "New/s0084/segmentations Labels in mask: 1 Length: 1\n"
     ]
    },
    {
     "name": "stderr",
     "output_type": "stream",
     "text": [
      "100%|██████████| 56/56 [00:05<00:00, 10.44it/s]\n"
     ]
    },
    {
     "name": "stdout",
     "output_type": "stream",
     "text": [
      "New/s0085/segmentations Labels in mask: 7 Length: 7\n"
     ]
    },
    {
     "name": "stderr",
     "output_type": "stream",
     "text": [
      "100%|██████████| 56/56 [00:07<00:00,  7.05it/s]\n"
     ]
    },
    {
     "name": "stdout",
     "output_type": "stream",
     "text": [
      "New/s0086/segmentations Labels in mask: 3 Length: 3\n"
     ]
    },
    {
     "name": "stderr",
     "output_type": "stream",
     "text": [
      "100%|██████████| 56/56 [00:06<00:00,  8.86it/s]\n"
     ]
    },
    {
     "name": "stdout",
     "output_type": "stream",
     "text": [
      "New/s0087/segmentations Labels in mask: 6 Length: 6\n"
     ]
    },
    {
     "name": "stderr",
     "output_type": "stream",
     "text": [
      "100%|██████████| 56/56 [00:12<00:00,  4.43it/s]\n"
     ]
    },
    {
     "name": "stdout",
     "output_type": "stream",
     "text": [
      "New/s0088/segmentations Labels in mask: 6 Length: 6\n"
     ]
    },
    {
     "name": "stderr",
     "output_type": "stream",
     "text": [
      "100%|██████████| 56/56 [00:05<00:00,  9.79it/s]\n"
     ]
    },
    {
     "name": "stdout",
     "output_type": "stream",
     "text": [
      "New/s0089/segmentations Labels in mask: 7 Length: 7\n"
     ]
    },
    {
     "name": "stderr",
     "output_type": "stream",
     "text": [
      "100%|██████████| 56/56 [00:05<00:00,  9.45it/s]\n"
     ]
    },
    {
     "name": "stdout",
     "output_type": "stream",
     "text": [
      "New/s0090/segmentations Labels in mask: 4 Length: 6\n"
     ]
    },
    {
     "name": "stderr",
     "output_type": "stream",
     "text": [
      "100%|██████████| 56/56 [00:05<00:00, 10.97it/s]\n"
     ]
    },
    {
     "name": "stdout",
     "output_type": "stream",
     "text": [
      "New/s0091/segmentations Labels in mask: 3 Length: 3\n"
     ]
    },
    {
     "name": "stderr",
     "output_type": "stream",
     "text": [
      "100%|██████████| 56/56 [00:02<00:00, 27.39it/s]\n"
     ]
    },
    {
     "name": "stdout",
     "output_type": "stream",
     "text": [
      "New/s0092/segmentations Labels in mask: 27 Length: 27\n"
     ]
    },
    {
     "name": "stderr",
     "output_type": "stream",
     "text": [
      "100%|██████████| 56/56 [00:23<00:00,  2.33it/s]\n"
     ]
    },
    {
     "name": "stdout",
     "output_type": "stream",
     "text": [
      "New/s0093/segmentations Labels in mask: 10 Length: 10\n"
     ]
    },
    {
     "name": "stderr",
     "output_type": "stream",
     "text": [
      "100%|██████████| 56/56 [00:18<00:00,  2.99it/s]\n"
     ]
    },
    {
     "name": "stdout",
     "output_type": "stream",
     "text": [
      "New/s0094/segmentations Labels in mask: 3 Length: 3\n"
     ]
    },
    {
     "name": "stderr",
     "output_type": "stream",
     "text": [
      "100%|██████████| 56/56 [00:33<00:00,  1.67it/s]\n"
     ]
    },
    {
     "name": "stdout",
     "output_type": "stream",
     "text": [
      "New/s0095/segmentations Labels in mask: 3 Length: 3\n"
     ]
    },
    {
     "name": "stderr",
     "output_type": "stream",
     "text": [
      "100%|██████████| 56/56 [00:10<00:00,  5.25it/s]\n"
     ]
    },
    {
     "name": "stdout",
     "output_type": "stream",
     "text": [
      "New/s0096/segmentations Labels in mask: 28 Length: 28\n"
     ]
    },
    {
     "name": "stderr",
     "output_type": "stream",
     "text": [
      "100%|██████████| 56/56 [00:06<00:00,  8.49it/s]\n"
     ]
    },
    {
     "name": "stdout",
     "output_type": "stream",
     "text": [
      "New/s0097/segmentations Labels in mask: 4 Length: 4\n"
     ]
    },
    {
     "name": "stderr",
     "output_type": "stream",
     "text": [
      "100%|██████████| 56/56 [00:12<00:00,  4.33it/s]\n"
     ]
    },
    {
     "name": "stdout",
     "output_type": "stream",
     "text": [
      "New/s0098/segmentations Labels in mask: 1 Length: 1\n"
     ]
    },
    {
     "name": "stderr",
     "output_type": "stream",
     "text": [
      "100%|██████████| 56/56 [00:03<00:00, 16.61it/s]\n"
     ]
    },
    {
     "name": "stdout",
     "output_type": "stream",
     "text": [
      "New/s0099/segmentations Labels in mask: 14 Length: 14\n"
     ]
    },
    {
     "name": "stderr",
     "output_type": "stream",
     "text": [
      "100%|██████████| 56/56 [00:05<00:00, 10.27it/s]\n"
     ]
    },
    {
     "name": "stdout",
     "output_type": "stream",
     "text": [
      "New/s0100/segmentations Labels in mask: 9 Length: 9\n"
     ]
    },
    {
     "name": "stderr",
     "output_type": "stream",
     "text": [
      "100%|██████████| 56/56 [00:02<00:00, 23.56it/s]\n"
     ]
    },
    {
     "name": "stdout",
     "output_type": "stream",
     "text": [
      "New/s0101/segmentations Labels in mask: 2 Length: 2\n"
     ]
    },
    {
     "name": "stderr",
     "output_type": "stream",
     "text": [
      "100%|██████████| 56/56 [00:05<00:00,  9.74it/s]\n"
     ]
    },
    {
     "name": "stdout",
     "output_type": "stream",
     "text": [
      "New/s0102/segmentations Labels in mask: 1 Length: 1\n"
     ]
    },
    {
     "name": "stderr",
     "output_type": "stream",
     "text": [
      "100%|██████████| 56/56 [00:06<00:00,  8.99it/s]\n"
     ]
    },
    {
     "name": "stdout",
     "output_type": "stream",
     "text": [
      "New/s0103/segmentations Labels in mask: 8 Length: 8\n"
     ]
    },
    {
     "name": "stderr",
     "output_type": "stream",
     "text": [
      "100%|██████████| 56/56 [00:11<00:00,  4.90it/s]\n"
     ]
    },
    {
     "name": "stdout",
     "output_type": "stream",
     "text": [
      "New/s0104/segmentations Labels in mask: 7 Length: 7\n"
     ]
    },
    {
     "name": "stderr",
     "output_type": "stream",
     "text": [
      "100%|██████████| 56/56 [00:06<00:00,  9.23it/s]\n"
     ]
    },
    {
     "name": "stdout",
     "output_type": "stream",
     "text": [
      "New/s0105/segmentations Labels in mask: 8 Length: 8\n"
     ]
    },
    {
     "name": "stderr",
     "output_type": "stream",
     "text": [
      "100%|██████████| 56/56 [00:03<00:00, 15.05it/s]\n"
     ]
    },
    {
     "name": "stdout",
     "output_type": "stream",
     "text": [
      "New/s0106/segmentations Labels in mask: 17 Length: 17\n"
     ]
    },
    {
     "name": "stderr",
     "output_type": "stream",
     "text": [
      "100%|██████████| 56/56 [02:23<00:00,  2.57s/it]\n"
     ]
    },
    {
     "name": "stdout",
     "output_type": "stream",
     "text": [
      "New/s0107/segmentations Labels in mask: 4 Length: 4\n"
     ]
    },
    {
     "name": "stderr",
     "output_type": "stream",
     "text": [
      "100%|██████████| 56/56 [00:08<00:00,  6.44it/s]\n"
     ]
    },
    {
     "name": "stdout",
     "output_type": "stream",
     "text": [
      "New/s0108/segmentations Labels in mask: 11 Length: 11\n"
     ]
    },
    {
     "name": "stderr",
     "output_type": "stream",
     "text": [
      "100%|██████████| 56/56 [01:16<00:00,  1.36s/it]\n"
     ]
    },
    {
     "name": "stdout",
     "output_type": "stream",
     "text": [
      "New/s0109/segmentations Labels in mask: 2 Length: 2\n"
     ]
    },
    {
     "name": "stderr",
     "output_type": "stream",
     "text": [
      "100%|██████████| 56/56 [00:02<00:00, 19.53it/s]\n"
     ]
    },
    {
     "name": "stdout",
     "output_type": "stream",
     "text": [
      "New/s0110/segmentations Labels in mask: 5 Length: 5\n"
     ]
    },
    {
     "name": "stderr",
     "output_type": "stream",
     "text": [
      "100%|██████████| 56/56 [00:06<00:00,  8.31it/s]\n"
     ]
    },
    {
     "name": "stdout",
     "output_type": "stream",
     "text": [
      "New/s0111/segmentations Labels in mask: 1 Length: 1\n"
     ]
    },
    {
     "name": "stderr",
     "output_type": "stream",
     "text": [
      "100%|██████████| 56/56 [00:12<00:00,  4.35it/s]\n"
     ]
    },
    {
     "name": "stdout",
     "output_type": "stream",
     "text": [
      "New/s0112/segmentations Labels in mask: 39 Length: 39\n"
     ]
    },
    {
     "name": "stderr",
     "output_type": "stream",
     "text": [
      "100%|██████████| 56/56 [00:02<00:00, 24.50it/s]\n"
     ]
    },
    {
     "name": "stdout",
     "output_type": "stream",
     "text": [
      "New/s0113/segmentations Labels in mask: 4 Length: 4\n"
     ]
    },
    {
     "name": "stderr",
     "output_type": "stream",
     "text": [
      "100%|██████████| 56/56 [00:03<00:00, 17.83it/s]\n"
     ]
    },
    {
     "name": "stdout",
     "output_type": "stream",
     "text": [
      "New/s0114/segmentations Labels in mask: 33 Length: 33\n"
     ]
    },
    {
     "name": "stderr",
     "output_type": "stream",
     "text": [
      "100%|██████████| 56/56 [00:01<00:00, 32.81it/s]\n"
     ]
    },
    {
     "name": "stdout",
     "output_type": "stream",
     "text": [
      "New/s0115/segmentations Labels in mask: 4 Length: 4\n"
     ]
    },
    {
     "name": "stderr",
     "output_type": "stream",
     "text": [
      "100%|██████████| 56/56 [00:00<00:00, 57.00it/s]\n"
     ]
    },
    {
     "name": "stdout",
     "output_type": "stream",
     "text": [
      "New/s0116/segmentations Labels in mask: 2 Length: 2\n"
     ]
    },
    {
     "name": "stderr",
     "output_type": "stream",
     "text": [
      "100%|██████████| 56/56 [00:05<00:00,  9.70it/s]\n"
     ]
    },
    {
     "name": "stdout",
     "output_type": "stream",
     "text": [
      "New/s0117/segmentations Labels in mask: 2 Length: 2\n"
     ]
    },
    {
     "name": "stderr",
     "output_type": "stream",
     "text": [
      "100%|██████████| 56/56 [01:13<00:00,  1.31s/it]\n"
     ]
    },
    {
     "name": "stdout",
     "output_type": "stream",
     "text": [
      "New/s0118/segmentations Labels in mask: 11 Length: 11\n"
     ]
    },
    {
     "name": "stderr",
     "output_type": "stream",
     "text": [
      "100%|██████████| 56/56 [00:06<00:00,  8.48it/s]\n"
     ]
    },
    {
     "name": "stdout",
     "output_type": "stream",
     "text": [
      "New/s0119/segmentations Labels in mask: 3 Length: 3\n"
     ]
    },
    {
     "name": "stderr",
     "output_type": "stream",
     "text": [
      "100%|██████████| 56/56 [01:48<00:00,  1.93s/it]\n"
     ]
    },
    {
     "name": "stdout",
     "output_type": "stream",
     "text": [
      "New/s0120/segmentations Labels in mask: 10 Length: 10\n"
     ]
    },
    {
     "name": "stderr",
     "output_type": "stream",
     "text": [
      "100%|██████████| 56/56 [00:11<00:00,  5.08it/s]\n"
     ]
    },
    {
     "name": "stdout",
     "output_type": "stream",
     "text": [
      "New/s0121/segmentations Labels in mask: 8 Length: 8\n"
     ]
    },
    {
     "name": "stderr",
     "output_type": "stream",
     "text": [
      "100%|██████████| 56/56 [00:15<00:00,  3.65it/s]\n"
     ]
    },
    {
     "name": "stdout",
     "output_type": "stream",
     "text": [
      "New/s0122/segmentations Labels in mask: 1 Length: 1\n"
     ]
    },
    {
     "name": "stderr",
     "output_type": "stream",
     "text": [
      "100%|██████████| 56/56 [00:03<00:00, 16.75it/s]\n"
     ]
    },
    {
     "name": "stdout",
     "output_type": "stream",
     "text": [
      "New/s0123/segmentations Labels in mask: 8 Length: 8\n"
     ]
    },
    {
     "name": "stderr",
     "output_type": "stream",
     "text": [
      "100%|██████████| 56/56 [00:01<00:00, 28.72it/s]\n"
     ]
    },
    {
     "name": "stdout",
     "output_type": "stream",
     "text": [
      "New/s0124/segmentations Labels in mask: 9 Length: 9\n"
     ]
    },
    {
     "name": "stderr",
     "output_type": "stream",
     "text": [
      "100%|██████████| 56/56 [00:19<00:00,  2.91it/s]\n"
     ]
    },
    {
     "name": "stdout",
     "output_type": "stream",
     "text": [
      "New/s0125/segmentations Labels in mask: 11 Length: 11\n"
     ]
    },
    {
     "name": "stderr",
     "output_type": "stream",
     "text": [
      "100%|██████████| 56/56 [00:08<00:00,  6.31it/s]\n"
     ]
    },
    {
     "name": "stdout",
     "output_type": "stream",
     "text": [
      "New/s0126/segmentations Labels in mask: 27 Length: 27\n"
     ]
    },
    {
     "name": "stderr",
     "output_type": "stream",
     "text": [
      "100%|██████████| 56/56 [00:12<00:00,  4.36it/s]\n"
     ]
    },
    {
     "name": "stdout",
     "output_type": "stream",
     "text": [
      "New/s0127/segmentations Labels in mask: 13 Length: 13\n"
     ]
    },
    {
     "name": "stderr",
     "output_type": "stream",
     "text": [
      "100%|██████████| 56/56 [00:09<00:00,  5.91it/s]\n"
     ]
    },
    {
     "name": "stdout",
     "output_type": "stream",
     "text": [
      "New/s0128/segmentations Labels in mask: 30 Length: 30\n"
     ]
    },
    {
     "name": "stderr",
     "output_type": "stream",
     "text": [
      "100%|██████████| 56/56 [00:31<00:00,  1.78it/s]\n"
     ]
    },
    {
     "name": "stdout",
     "output_type": "stream",
     "text": [
      "New/s0129/segmentations Labels in mask: 3 Length: 3\n"
     ]
    },
    {
     "name": "stderr",
     "output_type": "stream",
     "text": [
      "100%|██████████| 56/56 [00:15<00:00,  3.56it/s]\n"
     ]
    },
    {
     "name": "stdout",
     "output_type": "stream",
     "text": [
      "New/s0130/segmentations Labels in mask: 10 Length: 10\n"
     ]
    },
    {
     "name": "stderr",
     "output_type": "stream",
     "text": [
      "100%|██████████| 56/56 [00:01<00:00, 28.56it/s]\n"
     ]
    },
    {
     "name": "stdout",
     "output_type": "stream",
     "text": [
      "New/s0131/segmentations Labels in mask: 20 Length: 20\n"
     ]
    },
    {
     "name": "stderr",
     "output_type": "stream",
     "text": [
      "100%|██████████| 56/56 [01:35<00:00,  1.71s/it]\n"
     ]
    },
    {
     "name": "stdout",
     "output_type": "stream",
     "text": [
      "New/s0132/segmentations Labels in mask: 33 Length: 33\n"
     ]
    },
    {
     "name": "stderr",
     "output_type": "stream",
     "text": [
      "100%|██████████| 56/56 [00:19<00:00,  2.84it/s]\n"
     ]
    },
    {
     "name": "stdout",
     "output_type": "stream",
     "text": [
      "New/s0133/segmentations Labels in mask: 3 Length: 3\n"
     ]
    },
    {
     "name": "stderr",
     "output_type": "stream",
     "text": [
      "100%|██████████| 56/56 [00:20<00:00,  2.67it/s]\n"
     ]
    },
    {
     "name": "stdout",
     "output_type": "stream",
     "text": [
      "New/s0134/segmentations Labels in mask: 3 Length: 3\n"
     ]
    },
    {
     "name": "stderr",
     "output_type": "stream",
     "text": [
      "100%|██████████| 56/56 [00:03<00:00, 14.29it/s]\n"
     ]
    },
    {
     "name": "stdout",
     "output_type": "stream",
     "text": [
      "New/s0135/segmentations Labels in mask: 4 Length: 4\n"
     ]
    },
    {
     "name": "stderr",
     "output_type": "stream",
     "text": [
      "100%|██████████| 56/56 [00:09<00:00,  5.78it/s]\n"
     ]
    },
    {
     "name": "stdout",
     "output_type": "stream",
     "text": [
      "New/s0136/segmentations Labels in mask: 3 Length: 3\n"
     ]
    },
    {
     "name": "stderr",
     "output_type": "stream",
     "text": [
      "100%|██████████| 56/56 [00:05<00:00,  9.34it/s]\n"
     ]
    },
    {
     "name": "stdout",
     "output_type": "stream",
     "text": [
      "New/s0137/segmentations Labels in mask: 18 Length: 18\n"
     ]
    },
    {
     "name": "stderr",
     "output_type": "stream",
     "text": [
      "100%|██████████| 56/56 [00:09<00:00,  5.77it/s]\n"
     ]
    },
    {
     "name": "stdout",
     "output_type": "stream",
     "text": [
      "New/s0138/segmentations Labels in mask: 4 Length: 4\n"
     ]
    },
    {
     "name": "stderr",
     "output_type": "stream",
     "text": [
      "100%|██████████| 56/56 [00:09<00:00,  5.88it/s]\n"
     ]
    },
    {
     "name": "stdout",
     "output_type": "stream",
     "text": [
      "New/s0139/segmentations Labels in mask: 24 Length: 24\n"
     ]
    },
    {
     "name": "stderr",
     "output_type": "stream",
     "text": [
      "100%|██████████| 56/56 [00:05<00:00,  9.95it/s]\n"
     ]
    },
    {
     "name": "stdout",
     "output_type": "stream",
     "text": [
      "New/s0140/segmentations Labels in mask: 1 Length: 1\n"
     ]
    },
    {
     "name": "stderr",
     "output_type": "stream",
     "text": [
      "100%|██████████| 56/56 [00:04<00:00, 12.84it/s]\n"
     ]
    },
    {
     "name": "stdout",
     "output_type": "stream",
     "text": [
      "New/s0141/segmentations Labels in mask: 1 Length: 1\n"
     ]
    },
    {
     "name": "stderr",
     "output_type": "stream",
     "text": [
      "100%|██████████| 56/56 [00:03<00:00, 16.24it/s]\n"
     ]
    },
    {
     "name": "stdout",
     "output_type": "stream",
     "text": [
      "New/s0142/segmentations Labels in mask: 9 Length: 9\n"
     ]
    },
    {
     "name": "stderr",
     "output_type": "stream",
     "text": [
      "100%|██████████| 56/56 [00:07<00:00,  7.82it/s]\n"
     ]
    },
    {
     "name": "stdout",
     "output_type": "stream",
     "text": [
      "New/s0143/segmentations Labels in mask: 28 Length: 28\n"
     ]
    },
    {
     "name": "stderr",
     "output_type": "stream",
     "text": [
      "100%|██████████| 56/56 [00:20<00:00,  2.76it/s]\n"
     ]
    },
    {
     "name": "stdout",
     "output_type": "stream",
     "text": [
      "New/s0144/segmentations Labels in mask: 27 Length: 27\n"
     ]
    },
    {
     "name": "stderr",
     "output_type": "stream",
     "text": [
      "100%|██████████| 56/56 [00:02<00:00, 21.93it/s]\n"
     ]
    },
    {
     "name": "stdout",
     "output_type": "stream",
     "text": [
      "New/s0145/segmentations Labels in mask: 2 Length: 2\n"
     ]
    },
    {
     "name": "stderr",
     "output_type": "stream",
     "text": [
      "100%|██████████| 56/56 [00:05<00:00, 10.12it/s]\n"
     ]
    },
    {
     "name": "stdout",
     "output_type": "stream",
     "text": [
      "New/s0146/segmentations Labels in mask: 7 Length: 7\n"
     ]
    },
    {
     "name": "stderr",
     "output_type": "stream",
     "text": [
      "100%|██████████| 56/56 [00:09<00:00,  5.73it/s]\n"
     ]
    },
    {
     "name": "stdout",
     "output_type": "stream",
     "text": [
      "New/s0147/segmentations Labels in mask: 28 Length: 28\n"
     ]
    },
    {
     "name": "stderr",
     "output_type": "stream",
     "text": [
      "100%|██████████| 56/56 [00:08<00:00,  6.39it/s]\n"
     ]
    },
    {
     "name": "stdout",
     "output_type": "stream",
     "text": [
      "New/s0148/segmentations Labels in mask: 36 Length: 36\n"
     ]
    },
    {
     "name": "stderr",
     "output_type": "stream",
     "text": [
      "100%|██████████| 56/56 [00:12<00:00,  4.33it/s]\n"
     ]
    },
    {
     "name": "stdout",
     "output_type": "stream",
     "text": [
      "New/s0149/segmentations Labels in mask: 3 Length: 3\n"
     ]
    },
    {
     "name": "stderr",
     "output_type": "stream",
     "text": [
      "100%|██████████| 56/56 [00:11<00:00,  5.09it/s]\n"
     ]
    },
    {
     "name": "stdout",
     "output_type": "stream",
     "text": [
      "New/s0150/segmentations Labels in mask: 3 Length: 3\n"
     ]
    },
    {
     "name": "stderr",
     "output_type": "stream",
     "text": [
      "100%|██████████| 56/56 [00:18<00:00,  2.97it/s]\n"
     ]
    },
    {
     "name": "stdout",
     "output_type": "stream",
     "text": [
      "New/s0151/segmentations Labels in mask: 5 Length: 6\n"
     ]
    },
    {
     "name": "stderr",
     "output_type": "stream",
     "text": [
      "100%|██████████| 56/56 [00:07<00:00,  7.89it/s]\n"
     ]
    },
    {
     "name": "stdout",
     "output_type": "stream",
     "text": [
      "New/s0152/segmentations Labels in mask: 1 Length: 1\n"
     ]
    },
    {
     "name": "stderr",
     "output_type": "stream",
     "text": [
      "100%|██████████| 56/56 [00:19<00:00,  2.94it/s]\n"
     ]
    },
    {
     "name": "stdout",
     "output_type": "stream",
     "text": [
      "New/s0153/segmentations Labels in mask: 30 Length: 30\n"
     ]
    },
    {
     "name": "stderr",
     "output_type": "stream",
     "text": [
      "100%|██████████| 56/56 [00:06<00:00,  8.07it/s]\n"
     ]
    },
    {
     "name": "stdout",
     "output_type": "stream",
     "text": [
      "New/s0154/segmentations Labels in mask: 2 Length: 2\n"
     ]
    },
    {
     "name": "stderr",
     "output_type": "stream",
     "text": [
      "100%|██████████| 56/56 [00:07<00:00,  7.11it/s]\n"
     ]
    },
    {
     "name": "stdout",
     "output_type": "stream",
     "text": [
      "New/s0155/segmentations Labels in mask: 31 Length: 32\n"
     ]
    },
    {
     "name": "stderr",
     "output_type": "stream",
     "text": [
      "100%|██████████| 56/56 [00:04<00:00, 12.24it/s]\n"
     ]
    },
    {
     "name": "stdout",
     "output_type": "stream",
     "text": [
      "New/s0156/segmentations Labels in mask: 3 Length: 3\n"
     ]
    },
    {
     "name": "stderr",
     "output_type": "stream",
     "text": [
      "100%|██████████| 56/56 [00:03<00:00, 17.83it/s]\n"
     ]
    },
    {
     "name": "stdout",
     "output_type": "stream",
     "text": [
      "New/s0157/segmentations Labels in mask: 11 Length: 11\n"
     ]
    },
    {
     "name": "stderr",
     "output_type": "stream",
     "text": [
      "100%|██████████| 56/56 [00:10<00:00,  5.58it/s]\n"
     ]
    },
    {
     "name": "stdout",
     "output_type": "stream",
     "text": [
      "New/s0158/segmentations Labels in mask: 39 Length: 39\n"
     ]
    },
    {
     "name": "stderr",
     "output_type": "stream",
     "text": [
      "100%|██████████| 56/56 [00:07<00:00,  7.25it/s]\n"
     ]
    },
    {
     "name": "stdout",
     "output_type": "stream",
     "text": [
      "New/s0159/segmentations Labels in mask: 27 Length: 27\n"
     ]
    },
    {
     "name": "stderr",
     "output_type": "stream",
     "text": [
      "100%|██████████| 56/56 [00:20<00:00,  2.73it/s]\n"
     ]
    },
    {
     "name": "stdout",
     "output_type": "stream",
     "text": [
      "New/s0160/segmentations Labels in mask: 27 Length: 27\n"
     ]
    },
    {
     "name": "stderr",
     "output_type": "stream",
     "text": [
      "100%|██████████| 56/56 [00:30<00:00,  1.83it/s]\n"
     ]
    },
    {
     "name": "stdout",
     "output_type": "stream",
     "text": [
      "New/s0161/segmentations Labels in mask: 13 Length: 13\n"
     ]
    },
    {
     "name": "stderr",
     "output_type": "stream",
     "text": [
      "100%|██████████| 56/56 [00:03<00:00, 15.42it/s]\n"
     ]
    },
    {
     "name": "stdout",
     "output_type": "stream",
     "text": [
      "New/s0162/segmentations Labels in mask: 26 Length: 26\n"
     ]
    },
    {
     "name": "stderr",
     "output_type": "stream",
     "text": [
      "100%|██████████| 56/56 [00:08<00:00,  6.59it/s]\n"
     ]
    },
    {
     "name": "stdout",
     "output_type": "stream",
     "text": [
      "New/s0163/segmentations Labels in mask: 37 Length: 37\n"
     ]
    },
    {
     "name": "stderr",
     "output_type": "stream",
     "text": [
      "100%|██████████| 56/56 [00:32<00:00,  1.73it/s]\n"
     ]
    },
    {
     "name": "stdout",
     "output_type": "stream",
     "text": [
      "New/s0164/segmentations Labels in mask: 32 Length: 32\n"
     ]
    },
    {
     "name": "stderr",
     "output_type": "stream",
     "text": [
      "100%|██████████| 56/56 [00:07<00:00,  7.69it/s]\n"
     ]
    },
    {
     "name": "stdout",
     "output_type": "stream",
     "text": [
      "New/s0165/segmentations Labels in mask: 3 Length: 3\n"
     ]
    },
    {
     "name": "stderr",
     "output_type": "stream",
     "text": [
      "100%|██████████| 56/56 [00:06<00:00,  8.25it/s]\n"
     ]
    },
    {
     "name": "stdout",
     "output_type": "stream",
     "text": [
      "New/s0166/segmentations Labels in mask: 33 Length: 33\n"
     ]
    },
    {
     "name": "stderr",
     "output_type": "stream",
     "text": [
      "100%|██████████| 56/56 [00:13<00:00,  4.12it/s]\n"
     ]
    },
    {
     "name": "stdout",
     "output_type": "stream",
     "text": [
      "New/s0167/segmentations Labels in mask: 43 Length: 43\n"
     ]
    },
    {
     "name": "stderr",
     "output_type": "stream",
     "text": [
      "100%|██████████| 56/56 [00:07<00:00,  7.13it/s]\n"
     ]
    },
    {
     "name": "stdout",
     "output_type": "stream",
     "text": [
      "New/s0168/segmentations Labels in mask: 27 Length: 27\n"
     ]
    },
    {
     "name": "stderr",
     "output_type": "stream",
     "text": [
      "100%|██████████| 56/56 [00:04<00:00, 12.12it/s]\n"
     ]
    },
    {
     "name": "stdout",
     "output_type": "stream",
     "text": [
      "New/s0169/segmentations Labels in mask: 33 Length: 33\n"
     ]
    },
    {
     "name": "stderr",
     "output_type": "stream",
     "text": [
      "100%|██████████| 56/56 [00:07<00:00,  7.93it/s]\n"
     ]
    },
    {
     "name": "stdout",
     "output_type": "stream",
     "text": [
      "New/s0170/segmentations Labels in mask: 27 Length: 27\n"
     ]
    },
    {
     "name": "stderr",
     "output_type": "stream",
     "text": [
      "100%|██████████| 56/56 [00:07<00:00,  7.99it/s]\n"
     ]
    },
    {
     "name": "stdout",
     "output_type": "stream",
     "text": [
      "New/s0171/segmentations Labels in mask: 31 Length: 31\n"
     ]
    },
    {
     "name": "stderr",
     "output_type": "stream",
     "text": [
      "100%|██████████| 56/56 [00:08<00:00,  6.94it/s]\n"
     ]
    },
    {
     "name": "stdout",
     "output_type": "stream",
     "text": [
      "New/s0172/segmentations Labels in mask: 38 Length: 38\n"
     ]
    },
    {
     "name": "stderr",
     "output_type": "stream",
     "text": [
      "100%|██████████| 56/56 [00:07<00:00,  7.88it/s]\n"
     ]
    },
    {
     "name": "stdout",
     "output_type": "stream",
     "text": [
      "New/s0173/segmentations Labels in mask: 40 Length: 40\n"
     ]
    },
    {
     "name": "stderr",
     "output_type": "stream",
     "text": [
      "100%|██████████| 56/56 [00:21<00:00,  2.61it/s]\n"
     ]
    },
    {
     "name": "stdout",
     "output_type": "stream",
     "text": [
      "New/s0174/segmentations Labels in mask: 35 Length: 35\n"
     ]
    },
    {
     "name": "stderr",
     "output_type": "stream",
     "text": [
      "100%|██████████| 56/56 [00:56<00:00,  1.00s/it]\n"
     ]
    },
    {
     "name": "stdout",
     "output_type": "stream",
     "text": [
      "New/s0175/segmentations Labels in mask: 54 Length: 54\n"
     ]
    },
    {
     "name": "stderr",
     "output_type": "stream",
     "text": [
      "100%|██████████| 56/56 [00:08<00:00,  6.96it/s]\n"
     ]
    },
    {
     "name": "stdout",
     "output_type": "stream",
     "text": [
      "New/s0176/segmentations Labels in mask: 33 Length: 33\n"
     ]
    },
    {
     "name": "stderr",
     "output_type": "stream",
     "text": [
      "100%|██████████| 56/56 [00:19<00:00,  2.82it/s]\n"
     ]
    },
    {
     "name": "stdout",
     "output_type": "stream",
     "text": [
      "New/s0177/segmentations Labels in mask: 22 Length: 22\n"
     ]
    },
    {
     "name": "stderr",
     "output_type": "stream",
     "text": [
      "100%|██████████| 56/56 [00:02<00:00, 18.72it/s]\n"
     ]
    },
    {
     "name": "stdout",
     "output_type": "stream",
     "text": [
      "New/s0178/segmentations Labels in mask: 38 Length: 38\n"
     ]
    },
    {
     "name": "stderr",
     "output_type": "stream",
     "text": [
      "100%|██████████| 56/56 [00:02<00:00, 21.56it/s]\n"
     ]
    },
    {
     "name": "stdout",
     "output_type": "stream",
     "text": [
      "New/s0179/segmentations Labels in mask: 36 Length: 36\n"
     ]
    },
    {
     "name": "stderr",
     "output_type": "stream",
     "text": [
      "100%|██████████| 56/56 [00:08<00:00,  6.98it/s]\n"
     ]
    },
    {
     "name": "stdout",
     "output_type": "stream",
     "text": [
      "New/s0180/segmentations Labels in mask: 36 Length: 36\n"
     ]
    },
    {
     "name": "stderr",
     "output_type": "stream",
     "text": [
      "100%|██████████| 56/56 [00:06<00:00,  8.05it/s]\n"
     ]
    },
    {
     "name": "stdout",
     "output_type": "stream",
     "text": [
      "New/s0181/segmentations Labels in mask: 27 Length: 27\n"
     ]
    },
    {
     "name": "stderr",
     "output_type": "stream",
     "text": [
      "100%|██████████| 56/56 [00:07<00:00,  7.66it/s]\n"
     ]
    },
    {
     "name": "stdout",
     "output_type": "stream",
     "text": [
      "New/s0182/segmentations Labels in mask: 28 Length: 28\n"
     ]
    },
    {
     "name": "stderr",
     "output_type": "stream",
     "text": [
      "100%|██████████| 56/56 [00:27<00:00,  2.03it/s]\n"
     ]
    },
    {
     "name": "stdout",
     "output_type": "stream",
     "text": [
      "New/s0183/segmentations Labels in mask: 33 Length: 33\n"
     ]
    },
    {
     "name": "stderr",
     "output_type": "stream",
     "text": [
      "100%|██████████| 56/56 [00:06<00:00,  9.27it/s]\n"
     ]
    },
    {
     "name": "stdout",
     "output_type": "stream",
     "text": [
      "New/s0184/segmentations Labels in mask: 27 Length: 27\n"
     ]
    },
    {
     "name": "stderr",
     "output_type": "stream",
     "text": [
      "100%|██████████| 56/56 [00:06<00:00,  8.02it/s]\n"
     ]
    },
    {
     "name": "stdout",
     "output_type": "stream",
     "text": [
      "New/s0185/segmentations Labels in mask: 34 Length: 34\n"
     ]
    },
    {
     "name": "stderr",
     "output_type": "stream",
     "text": [
      "100%|██████████| 56/56 [00:13<00:00,  4.04it/s]\n"
     ]
    },
    {
     "name": "stdout",
     "output_type": "stream",
     "text": [
      "New/s0186/segmentations Labels in mask: 42 Length: 42\n"
     ]
    },
    {
     "name": "stderr",
     "output_type": "stream",
     "text": [
      "100%|██████████| 56/56 [00:16<00:00,  3.44it/s]\n"
     ]
    },
    {
     "name": "stdout",
     "output_type": "stream",
     "text": [
      "New/s0187/segmentations Labels in mask: 47 Length: 47\n"
     ]
    },
    {
     "name": "stderr",
     "output_type": "stream",
     "text": [
      "100%|██████████| 56/56 [00:13<00:00,  4.23it/s]\n"
     ]
    },
    {
     "name": "stdout",
     "output_type": "stream",
     "text": [
      "New/s0188/segmentations Labels in mask: 29 Length: 29\n"
     ]
    },
    {
     "name": "stderr",
     "output_type": "stream",
     "text": [
      "100%|██████████| 56/56 [00:10<00:00,  5.31it/s]\n"
     ]
    },
    {
     "name": "stdout",
     "output_type": "stream",
     "text": [
      "New/s0189/segmentations Labels in mask: 27 Length: 27\n"
     ]
    },
    {
     "name": "stderr",
     "output_type": "stream",
     "text": [
      "100%|██████████| 56/56 [00:08<00:00,  6.51it/s]\n"
     ]
    },
    {
     "name": "stdout",
     "output_type": "stream",
     "text": [
      "New/s0190/segmentations Labels in mask: 35 Length: 35\n"
     ]
    },
    {
     "name": "stderr",
     "output_type": "stream",
     "text": [
      "100%|██████████| 56/56 [00:15<00:00,  3.65it/s]\n"
     ]
    },
    {
     "name": "stdout",
     "output_type": "stream",
     "text": [
      "New/s0191/segmentations Labels in mask: 35 Length: 35\n"
     ]
    },
    {
     "name": "stderr",
     "output_type": "stream",
     "text": [
      "100%|██████████| 56/56 [00:09<00:00,  5.91it/s]\n"
     ]
    },
    {
     "name": "stdout",
     "output_type": "stream",
     "text": [
      "New/s0192/segmentations Labels in mask: 36 Length: 36\n"
     ]
    },
    {
     "name": "stderr",
     "output_type": "stream",
     "text": [
      "100%|██████████| 56/56 [00:05<00:00, 11.17it/s]\n"
     ]
    },
    {
     "name": "stdout",
     "output_type": "stream",
     "text": [
      "New/s0193/segmentations Labels in mask: 35 Length: 35\n"
     ]
    },
    {
     "name": "stderr",
     "output_type": "stream",
     "text": [
      "100%|██████████| 56/56 [00:03<00:00, 16.30it/s]\n"
     ]
    },
    {
     "name": "stdout",
     "output_type": "stream",
     "text": [
      "New/s0194/segmentations Labels in mask: 18 Length: 18\n"
     ]
    },
    {
     "name": "stderr",
     "output_type": "stream",
     "text": [
      "100%|██████████| 56/56 [00:08<00:00,  6.25it/s]\n"
     ]
    },
    {
     "name": "stdout",
     "output_type": "stream",
     "text": [
      "New/s0195/segmentations Labels in mask: 32 Length: 32\n"
     ]
    },
    {
     "name": "stderr",
     "output_type": "stream",
     "text": [
      "100%|██████████| 56/56 [00:54<00:00,  1.02it/s]\n"
     ]
    },
    {
     "name": "stdout",
     "output_type": "stream",
     "text": [
      "New/s0196/segmentations Labels in mask: 1 Length: 1\n"
     ]
    },
    {
     "name": "stderr",
     "output_type": "stream",
     "text": [
      "100%|██████████| 56/56 [00:10<00:00,  5.49it/s]\n"
     ]
    },
    {
     "name": "stdout",
     "output_type": "stream",
     "text": [
      "New/s0197/segmentations Labels in mask: 27 Length: 27\n"
     ]
    },
    {
     "name": "stderr",
     "output_type": "stream",
     "text": [
      "100%|██████████| 56/56 [00:14<00:00,  3.96it/s]\n"
     ]
    },
    {
     "name": "stdout",
     "output_type": "stream",
     "text": [
      "New/s0198/segmentations Labels in mask: 8 Length: 8\n"
     ]
    },
    {
     "name": "stderr",
     "output_type": "stream",
     "text": [
      "100%|██████████| 56/56 [00:06<00:00,  8.09it/s]\n"
     ]
    },
    {
     "name": "stdout",
     "output_type": "stream",
     "text": [
      "New/s0199/segmentations Labels in mask: 27 Length: 27\n"
     ]
    },
    {
     "name": "stderr",
     "output_type": "stream",
     "text": [
      "100%|██████████| 56/56 [00:33<00:00,  1.67it/s]\n"
     ]
    },
    {
     "name": "stdout",
     "output_type": "stream",
     "text": [
      "New/s0200/segmentations Labels in mask: 30 Length: 30\n"
     ]
    },
    {
     "name": "stderr",
     "output_type": "stream",
     "text": [
      "100%|██████████| 56/56 [00:08<00:00,  6.56it/s]\n"
     ]
    },
    {
     "name": "stdout",
     "output_type": "stream",
     "text": [
      "New/s0201/segmentations Labels in mask: 27 Length: 27\n"
     ]
    },
    {
     "name": "stderr",
     "output_type": "stream",
     "text": [
      "100%|██████████| 56/56 [00:04<00:00, 13.18it/s]\n"
     ]
    },
    {
     "name": "stdout",
     "output_type": "stream",
     "text": [
      "New/s0202/segmentations Labels in mask: 27 Length: 27\n"
     ]
    },
    {
     "name": "stderr",
     "output_type": "stream",
     "text": [
      "100%|██████████| 56/56 [00:06<00:00,  8.66it/s]\n"
     ]
    },
    {
     "name": "stdout",
     "output_type": "stream",
     "text": [
      "New/s0203/segmentations Labels in mask: 28 Length: 28\n"
     ]
    },
    {
     "name": "stderr",
     "output_type": "stream",
     "text": [
      "100%|██████████| 56/56 [00:07<00:00,  7.73it/s]\n"
     ]
    },
    {
     "name": "stdout",
     "output_type": "stream",
     "text": [
      "New/s0204/segmentations Labels in mask: 28 Length: 28\n"
     ]
    },
    {
     "name": "stderr",
     "output_type": "stream",
     "text": [
      "100%|██████████| 56/56 [00:04<00:00, 12.56it/s]\n"
     ]
    },
    {
     "name": "stdout",
     "output_type": "stream",
     "text": [
      "New/s0205/segmentations Labels in mask: 4 Length: 4\n"
     ]
    },
    {
     "name": "stderr",
     "output_type": "stream",
     "text": [
      "100%|██████████| 56/56 [00:02<00:00, 22.66it/s]\n"
     ]
    },
    {
     "name": "stdout",
     "output_type": "stream",
     "text": [
      "New/s0206/segmentations Labels in mask: 40 Length: 40\n"
     ]
    },
    {
     "name": "stderr",
     "output_type": "stream",
     "text": [
      "100%|██████████| 56/56 [00:07<00:00,  7.56it/s]\n"
     ]
    },
    {
     "name": "stdout",
     "output_type": "stream",
     "text": [
      "New/s0207/segmentations Labels in mask: 26 Length: 26\n"
     ]
    },
    {
     "name": "stderr",
     "output_type": "stream",
     "text": [
      "100%|██████████| 56/56 [00:10<00:00,  5.26it/s]\n"
     ]
    },
    {
     "name": "stdout",
     "output_type": "stream",
     "text": [
      "New/s0208/segmentations Labels in mask: 29 Length: 29\n"
     ]
    },
    {
     "name": "stderr",
     "output_type": "stream",
     "text": [
      "100%|██████████| 56/56 [00:28<00:00,  1.97it/s]\n"
     ]
    },
    {
     "name": "stdout",
     "output_type": "stream",
     "text": [
      "New/s0209/segmentations Labels in mask: 8 Length: 8\n"
     ]
    },
    {
     "name": "stderr",
     "output_type": "stream",
     "text": [
      "100%|██████████| 56/56 [00:04<00:00, 11.42it/s]\n"
     ]
    },
    {
     "name": "stdout",
     "output_type": "stream",
     "text": [
      "New/s0210/segmentations Labels in mask: 33 Length: 33\n"
     ]
    },
    {
     "name": "stderr",
     "output_type": "stream",
     "text": [
      "100%|██████████| 56/56 [00:22<00:00,  2.51it/s]\n"
     ]
    },
    {
     "name": "stdout",
     "output_type": "stream",
     "text": [
      "New/s0211/segmentations Labels in mask: 13 Length: 13\n"
     ]
    },
    {
     "name": "stderr",
     "output_type": "stream",
     "text": [
      "100%|██████████| 56/56 [00:05<00:00,  9.51it/s]\n"
     ]
    },
    {
     "name": "stdout",
     "output_type": "stream",
     "text": [
      "New/s0212/segmentations Labels in mask: 24 Length: 24\n"
     ]
    },
    {
     "name": "stderr",
     "output_type": "stream",
     "text": [
      "100%|██████████| 56/56 [00:07<00:00,  7.18it/s]\n"
     ]
    },
    {
     "name": "stdout",
     "output_type": "stream",
     "text": [
      "New/s0213/segmentations Labels in mask: 29 Length: 29\n"
     ]
    },
    {
     "name": "stderr",
     "output_type": "stream",
     "text": [
      "100%|██████████| 56/56 [00:02<00:00, 21.97it/s]\n"
     ]
    },
    {
     "name": "stdout",
     "output_type": "stream",
     "text": [
      "New/s0214/segmentations Labels in mask: 35 Length: 35\n"
     ]
    },
    {
     "name": "stderr",
     "output_type": "stream",
     "text": [
      "100%|██████████| 56/56 [00:13<00:00,  4.20it/s]\n"
     ]
    },
    {
     "name": "stdout",
     "output_type": "stream",
     "text": [
      "New/s0215/segmentations Labels in mask: 30 Length: 30\n"
     ]
    },
    {
     "name": "stderr",
     "output_type": "stream",
     "text": [
      "100%|██████████| 56/56 [00:16<00:00,  3.45it/s]\n"
     ]
    },
    {
     "name": "stdout",
     "output_type": "stream",
     "text": [
      "New/s0216/segmentations Labels in mask: 40 Length: 40\n"
     ]
    },
    {
     "name": "stderr",
     "output_type": "stream",
     "text": [
      "100%|██████████| 56/56 [00:10<00:00,  5.34it/s]\n"
     ]
    },
    {
     "name": "stdout",
     "output_type": "stream",
     "text": [
      "New/s0217/segmentations Labels in mask: 35 Length: 35\n"
     ]
    },
    {
     "name": "stderr",
     "output_type": "stream",
     "text": [
      "100%|██████████| 56/56 [00:02<00:00, 22.05it/s]\n"
     ]
    },
    {
     "name": "stdout",
     "output_type": "stream",
     "text": [
      "New/s0218/segmentations Labels in mask: 31 Length: 31\n"
     ]
    },
    {
     "name": "stderr",
     "output_type": "stream",
     "text": [
      "100%|██████████| 56/56 [00:14<00:00,  3.98it/s]\n"
     ]
    },
    {
     "name": "stdout",
     "output_type": "stream",
     "text": [
      "New/s0219/segmentations Labels in mask: 51 Length: 51\n"
     ]
    },
    {
     "name": "stderr",
     "output_type": "stream",
     "text": [
      "100%|██████████| 56/56 [00:12<00:00,  4.63it/s]\n"
     ]
    },
    {
     "name": "stdout",
     "output_type": "stream",
     "text": [
      "New/s0220/segmentations Labels in mask: 36 Length: 36\n"
     ]
    },
    {
     "name": "stderr",
     "output_type": "stream",
     "text": [
      "100%|██████████| 56/56 [00:04<00:00, 13.82it/s]\n"
     ]
    },
    {
     "name": "stdout",
     "output_type": "stream",
     "text": [
      "New/s0221/segmentations Labels in mask: 39 Length: 39\n"
     ]
    },
    {
     "name": "stderr",
     "output_type": "stream",
     "text": [
      "100%|██████████| 56/56 [00:07<00:00,  7.74it/s]\n"
     ]
    },
    {
     "name": "stdout",
     "output_type": "stream",
     "text": [
      "New/s0222/segmentations Labels in mask: 27 Length: 27\n"
     ]
    },
    {
     "name": "stderr",
     "output_type": "stream",
     "text": [
      "100%|██████████| 56/56 [00:05<00:00, 10.70it/s]\n"
     ]
    },
    {
     "name": "stdout",
     "output_type": "stream",
     "text": [
      "New/s0223/segmentations Labels in mask: 29 Length: 29\n"
     ]
    },
    {
     "name": "stderr",
     "output_type": "stream",
     "text": [
      "100%|██████████| 56/56 [00:04<00:00, 13.54it/s]\n"
     ]
    },
    {
     "name": "stdout",
     "output_type": "stream",
     "text": [
      "New/s0224/segmentations Labels in mask: 36 Length: 36\n"
     ]
    },
    {
     "name": "stderr",
     "output_type": "stream",
     "text": [
      "100%|██████████| 56/56 [00:04<00:00, 11.35it/s]\n"
     ]
    },
    {
     "name": "stdout",
     "output_type": "stream",
     "text": [
      "New/s0225/segmentations Labels in mask: 34 Length: 34\n"
     ]
    },
    {
     "name": "stderr",
     "output_type": "stream",
     "text": [
      "100%|██████████| 56/56 [00:08<00:00,  6.97it/s]\n"
     ]
    },
    {
     "name": "stdout",
     "output_type": "stream",
     "text": [
      "New/s0226/segmentations Labels in mask: 17 Length: 17\n"
     ]
    },
    {
     "name": "stderr",
     "output_type": "stream",
     "text": [
      "100%|██████████| 56/56 [00:02<00:00, 18.73it/s]\n"
     ]
    },
    {
     "name": "stdout",
     "output_type": "stream",
     "text": [
      "New/s0227/segmentations Labels in mask: 20 Length: 20\n"
     ]
    },
    {
     "name": "stderr",
     "output_type": "stream",
     "text": [
      "100%|██████████| 56/56 [00:06<00:00,  8.01it/s]\n"
     ]
    },
    {
     "name": "stdout",
     "output_type": "stream",
     "text": [
      "New/s0228/segmentations Labels in mask: 34 Length: 34\n"
     ]
    },
    {
     "name": "stderr",
     "output_type": "stream",
     "text": [
      "100%|██████████| 56/56 [00:12<00:00,  4.66it/s]\n"
     ]
    },
    {
     "name": "stdout",
     "output_type": "stream",
     "text": [
      "New/s0229/segmentations Labels in mask: 27 Length: 27\n"
     ]
    },
    {
     "name": "stderr",
     "output_type": "stream",
     "text": [
      "100%|██████████| 56/56 [00:02<00:00, 22.62it/s]\n"
     ]
    },
    {
     "name": "stdout",
     "output_type": "stream",
     "text": [
      "New/s0230/segmentations Labels in mask: 35 Length: 35\n"
     ]
    },
    {
     "name": "stderr",
     "output_type": "stream",
     "text": [
      "100%|██████████| 56/56 [00:04<00:00, 13.02it/s]\n"
     ]
    },
    {
     "name": "stdout",
     "output_type": "stream",
     "text": [
      "New/s0231/segmentations Labels in mask: 8 Length: 8\n"
     ]
    },
    {
     "name": "stderr",
     "output_type": "stream",
     "text": [
      "100%|██████████| 56/56 [00:02<00:00, 19.38it/s]\n"
     ]
    },
    {
     "name": "stdout",
     "output_type": "stream",
     "text": [
      "New/s0232/segmentations Labels in mask: 32 Length: 32\n"
     ]
    },
    {
     "name": "stderr",
     "output_type": "stream",
     "text": [
      "100%|██████████| 56/56 [00:08<00:00,  6.95it/s]\n"
     ]
    },
    {
     "name": "stdout",
     "output_type": "stream",
     "text": [
      "New/s0233/segmentations Labels in mask: 35 Length: 35\n"
     ]
    },
    {
     "name": "stderr",
     "output_type": "stream",
     "text": [
      "100%|██████████| 56/56 [00:06<00:00,  8.59it/s]\n"
     ]
    },
    {
     "name": "stdout",
     "output_type": "stream",
     "text": [
      "New/s0234/segmentations Labels in mask: 17 Length: 17\n"
     ]
    },
    {
     "name": "stderr",
     "output_type": "stream",
     "text": [
      "100%|██████████| 56/56 [00:07<00:00,  7.48it/s]\n"
     ]
    },
    {
     "name": "stdout",
     "output_type": "stream",
     "text": [
      "New/s0235/segmentations Labels in mask: 29 Length: 29\n"
     ]
    },
    {
     "name": "stderr",
     "output_type": "stream",
     "text": [
      "100%|██████████| 56/56 [00:48<00:00,  1.15it/s]\n"
     ]
    },
    {
     "name": "stdout",
     "output_type": "stream",
     "text": [
      "New/s0236/segmentations Labels in mask: 50 Length: 50\n"
     ]
    },
    {
     "name": "stderr",
     "output_type": "stream",
     "text": [
      "100%|██████████| 56/56 [00:14<00:00,  3.90it/s]\n"
     ]
    },
    {
     "name": "stdout",
     "output_type": "stream",
     "text": [
      "New/s0237/segmentations Labels in mask: 47 Length: 48\n"
     ]
    },
    {
     "name": "stderr",
     "output_type": "stream",
     "text": [
      "100%|██████████| 56/56 [00:07<00:00,  7.56it/s]\n"
     ]
    },
    {
     "name": "stdout",
     "output_type": "stream",
     "text": [
      "New/s0238/segmentations Labels in mask: 38 Length: 38\n"
     ]
    },
    {
     "name": "stderr",
     "output_type": "stream",
     "text": [
      "100%|██████████| 56/56 [00:18<00:00,  2.97it/s]\n"
     ]
    },
    {
     "name": "stdout",
     "output_type": "stream",
     "text": [
      "New/s0239/segmentations Labels in mask: 23 Length: 23\n"
     ]
    },
    {
     "name": "stderr",
     "output_type": "stream",
     "text": [
      "100%|██████████| 56/56 [00:14<00:00,  3.81it/s]\n"
     ]
    },
    {
     "name": "stdout",
     "output_type": "stream",
     "text": [
      "New/s0240/segmentations Labels in mask: 20 Length: 20\n"
     ]
    },
    {
     "name": "stderr",
     "output_type": "stream",
     "text": [
      "100%|██████████| 56/56 [00:06<00:00,  8.49it/s]\n"
     ]
    },
    {
     "name": "stdout",
     "output_type": "stream",
     "text": [
      "New/s0241/segmentations Labels in mask: 27 Length: 27\n"
     ]
    },
    {
     "name": "stderr",
     "output_type": "stream",
     "text": [
      "100%|██████████| 56/56 [00:12<00:00,  4.36it/s]\n"
     ]
    },
    {
     "name": "stdout",
     "output_type": "stream",
     "text": [
      "New/s0242/segmentations Labels in mask: 36 Length: 36\n"
     ]
    },
    {
     "name": "stderr",
     "output_type": "stream",
     "text": [
      "100%|██████████| 56/56 [00:15<00:00,  3.51it/s]\n"
     ]
    },
    {
     "name": "stdout",
     "output_type": "stream",
     "text": [
      "New/s0243/segmentations Labels in mask: 49 Length: 49\n"
     ]
    },
    {
     "name": "stderr",
     "output_type": "stream",
     "text": [
      "100%|██████████| 56/56 [00:41<00:00,  1.34it/s]\n"
     ]
    },
    {
     "name": "stdout",
     "output_type": "stream",
     "text": [
      "New/s0244/segmentations Labels in mask: 42 Length: 42\n"
     ]
    },
    {
     "name": "stderr",
     "output_type": "stream",
     "text": [
      "100%|██████████| 56/56 [01:55<00:00,  2.06s/it]\n"
     ]
    },
    {
     "name": "stdout",
     "output_type": "stream",
     "text": [
      "New/s0245/segmentations Labels in mask: 33 Length: 33\n"
     ]
    },
    {
     "name": "stderr",
     "output_type": "stream",
     "text": [
      "100%|██████████| 56/56 [00:16<00:00,  3.34it/s]\n"
     ]
    },
    {
     "name": "stdout",
     "output_type": "stream",
     "text": [
      "New/s0246/segmentations Labels in mask: 39 Length: 39\n"
     ]
    },
    {
     "name": "stderr",
     "output_type": "stream",
     "text": [
      "100%|██████████| 56/56 [00:03<00:00, 14.41it/s]\n"
     ]
    },
    {
     "name": "stdout",
     "output_type": "stream",
     "text": [
      "New/s0247/segmentations Labels in mask: 4 Length: 4\n"
     ]
    },
    {
     "name": "stderr",
     "output_type": "stream",
     "text": [
      "100%|██████████| 56/56 [00:09<00:00,  6.01it/s]\n"
     ]
    },
    {
     "name": "stdout",
     "output_type": "stream",
     "text": [
      "New/s0248/segmentations Labels in mask: 35 Length: 35\n"
     ]
    },
    {
     "name": "stderr",
     "output_type": "stream",
     "text": [
      "100%|██████████| 56/56 [00:08<00:00,  6.58it/s]\n"
     ]
    },
    {
     "name": "stdout",
     "output_type": "stream",
     "text": [
      "New/s0249/segmentations Labels in mask: 40 Length: 40\n"
     ]
    },
    {
     "name": "stderr",
     "output_type": "stream",
     "text": [
      "100%|██████████| 56/56 [00:22<00:00,  2.50it/s]\n"
     ]
    },
    {
     "name": "stdout",
     "output_type": "stream",
     "text": [
      "New/s0250/segmentations Labels in mask: 41 Length: 41\n"
     ]
    },
    {
     "name": "stderr",
     "output_type": "stream",
     "text": [
      "100%|██████████| 56/56 [00:11<00:00,  4.84it/s]\n"
     ]
    },
    {
     "name": "stdout",
     "output_type": "stream",
     "text": [
      "New/s0251/segmentations Labels in mask: 36 Length: 36\n"
     ]
    },
    {
     "name": "stderr",
     "output_type": "stream",
     "text": [
      "100%|██████████| 56/56 [00:10<00:00,  5.13it/s]\n"
     ]
    },
    {
     "name": "stdout",
     "output_type": "stream",
     "text": [
      "New/s0252/segmentations Labels in mask: 26 Length: 26\n"
     ]
    },
    {
     "name": "stderr",
     "output_type": "stream",
     "text": [
      "100%|██████████| 56/56 [00:08<00:00,  6.22it/s]\n"
     ]
    },
    {
     "name": "stdout",
     "output_type": "stream",
     "text": [
      "New/s0253/segmentations Labels in mask: 38 Length: 38\n"
     ]
    },
    {
     "name": "stderr",
     "output_type": "stream",
     "text": [
      "100%|██████████| 56/56 [00:07<00:00,  7.22it/s]\n"
     ]
    },
    {
     "name": "stdout",
     "output_type": "stream",
     "text": [
      "New/s0254/segmentations Labels in mask: 27 Length: 27\n"
     ]
    },
    {
     "name": "stderr",
     "output_type": "stream",
     "text": [
      "100%|██████████| 56/56 [00:55<00:00,  1.02it/s]\n"
     ]
    },
    {
     "name": "stdout",
     "output_type": "stream",
     "text": [
      "New/s0255/segmentations Labels in mask: 3 Length: 3\n"
     ]
    },
    {
     "name": "stderr",
     "output_type": "stream",
     "text": [
      "100%|██████████| 56/56 [00:19<00:00,  2.82it/s]\n"
     ]
    },
    {
     "name": "stdout",
     "output_type": "stream",
     "text": [
      "New/s0256/segmentations Labels in mask: 41 Length: 41\n"
     ]
    },
    {
     "name": "stderr",
     "output_type": "stream",
     "text": [
      "100%|██████████| 56/56 [00:12<00:00,  4.34it/s]\n"
     ]
    },
    {
     "name": "stdout",
     "output_type": "stream",
     "text": [
      "New/s0257/segmentations Labels in mask: 36 Length: 36\n"
     ]
    },
    {
     "name": "stderr",
     "output_type": "stream",
     "text": [
      "100%|██████████| 56/56 [00:10<00:00,  5.29it/s]\n"
     ]
    },
    {
     "name": "stdout",
     "output_type": "stream",
     "text": [
      "New/s0258/segmentations Labels in mask: 37 Length: 37\n"
     ]
    },
    {
     "name": "stderr",
     "output_type": "stream",
     "text": [
      "100%|██████████| 56/56 [00:41<00:00,  1.35it/s]\n"
     ]
    },
    {
     "name": "stdout",
     "output_type": "stream",
     "text": [
      "New/s0259/segmentations Labels in mask: 34 Length: 34\n"
     ]
    },
    {
     "name": "stderr",
     "output_type": "stream",
     "text": [
      "100%|██████████| 56/56 [00:08<00:00,  6.74it/s]\n"
     ]
    },
    {
     "name": "stdout",
     "output_type": "stream",
     "text": [
      "New/s0260/segmentations Labels in mask: 27 Length: 28\n"
     ]
    },
    {
     "name": "stderr",
     "output_type": "stream",
     "text": [
      "100%|██████████| 56/56 [00:05<00:00, 10.29it/s]\n"
     ]
    },
    {
     "name": "stdout",
     "output_type": "stream",
     "text": [
      "New/s0261/segmentations Labels in mask: 35 Length: 35\n"
     ]
    },
    {
     "name": "stderr",
     "output_type": "stream",
     "text": [
      "100%|██████████| 56/56 [00:05<00:00, 11.13it/s]\n"
     ]
    },
    {
     "name": "stdout",
     "output_type": "stream",
     "text": [
      "New/s0262/segmentations Labels in mask: 37 Length: 37\n"
     ]
    },
    {
     "name": "stderr",
     "output_type": "stream",
     "text": [
      "100%|██████████| 56/56 [00:13<00:00,  4.03it/s]\n"
     ]
    },
    {
     "name": "stdout",
     "output_type": "stream",
     "text": [
      "New/s0263/segmentations Labels in mask: 40 Length: 40\n"
     ]
    },
    {
     "name": "stderr",
     "output_type": "stream",
     "text": [
      "100%|██████████| 56/56 [00:25<00:00,  2.21it/s]\n"
     ]
    },
    {
     "name": "stdout",
     "output_type": "stream",
     "text": [
      "New/s0264/segmentations Labels in mask: 6 Length: 6\n"
     ]
    },
    {
     "name": "stderr",
     "output_type": "stream",
     "text": [
      "100%|██████████| 56/56 [00:08<00:00,  6.98it/s]\n"
     ]
    },
    {
     "name": "stdout",
     "output_type": "stream",
     "text": [
      "New/s0265/segmentations Labels in mask: 25 Length: 25\n"
     ]
    },
    {
     "name": "stderr",
     "output_type": "stream",
     "text": [
      "100%|██████████| 56/56 [00:12<00:00,  4.51it/s]\n"
     ]
    },
    {
     "name": "stdout",
     "output_type": "stream",
     "text": [
      "New/s0266/segmentations Labels in mask: 2 Length: 2\n"
     ]
    },
    {
     "name": "stderr",
     "output_type": "stream",
     "text": [
      "100%|██████████| 56/56 [00:15<00:00,  3.59it/s]\n"
     ]
    },
    {
     "name": "stdout",
     "output_type": "stream",
     "text": [
      "New/s0267/segmentations Labels in mask: 39 Length: 39\n"
     ]
    },
    {
     "name": "stderr",
     "output_type": "stream",
     "text": [
      "100%|██████████| 56/56 [00:00<00:00, 72.52it/s]\n"
     ]
    },
    {
     "name": "stdout",
     "output_type": "stream",
     "text": [
      "New/s0268/segmentations Labels in mask: 5 Length: 5\n"
     ]
    },
    {
     "name": "stderr",
     "output_type": "stream",
     "text": [
      "100%|██████████| 56/56 [00:05<00:00,  9.80it/s]\n"
     ]
    },
    {
     "name": "stdout",
     "output_type": "stream",
     "text": [
      "New/s0269/segmentations Labels in mask: 22 Length: 22\n"
     ]
    },
    {
     "name": "stderr",
     "output_type": "stream",
     "text": [
      "100%|██████████| 56/56 [00:07<00:00,  7.07it/s]\n"
     ]
    },
    {
     "name": "stdout",
     "output_type": "stream",
     "text": [
      "New/s0270/segmentations Labels in mask: 27 Length: 27\n"
     ]
    },
    {
     "name": "stderr",
     "output_type": "stream",
     "text": [
      "100%|██████████| 56/56 [00:06<00:00,  8.58it/s]\n"
     ]
    },
    {
     "name": "stdout",
     "output_type": "stream",
     "text": [
      "New/s0271/segmentations Labels in mask: 28 Length: 28\n"
     ]
    },
    {
     "name": "stderr",
     "output_type": "stream",
     "text": [
      "100%|██████████| 56/56 [00:08<00:00,  6.26it/s]\n"
     ]
    },
    {
     "name": "stdout",
     "output_type": "stream",
     "text": [
      "New/s0272/segmentations Labels in mask: 37 Length: 37\n"
     ]
    },
    {
     "name": "stderr",
     "output_type": "stream",
     "text": [
      "100%|██████████| 56/56 [00:07<00:00,  7.94it/s]\n"
     ]
    },
    {
     "name": "stdout",
     "output_type": "stream",
     "text": [
      "New/s0273/segmentations Labels in mask: 14 Length: 14\n"
     ]
    },
    {
     "name": "stderr",
     "output_type": "stream",
     "text": [
      "100%|██████████| 56/56 [00:13<00:00,  4.20it/s]\n"
     ]
    },
    {
     "name": "stdout",
     "output_type": "stream",
     "text": [
      "New/s0274/segmentations Labels in mask: 17 Length: 17\n"
     ]
    },
    {
     "name": "stderr",
     "output_type": "stream",
     "text": [
      "100%|██████████| 56/56 [00:09<00:00,  5.86it/s]\n"
     ]
    },
    {
     "name": "stdout",
     "output_type": "stream",
     "text": [
      "New/s0275/segmentations Labels in mask: 36 Length: 37\n"
     ]
    },
    {
     "name": "stderr",
     "output_type": "stream",
     "text": [
      "100%|██████████| 56/56 [00:12<00:00,  4.49it/s]\n"
     ]
    },
    {
     "name": "stdout",
     "output_type": "stream",
     "text": [
      "New/s0276/segmentations Labels in mask: 5 Length: 5\n"
     ]
    },
    {
     "name": "stderr",
     "output_type": "stream",
     "text": [
      "100%|██████████| 56/56 [00:25<00:00,  2.21it/s]\n"
     ]
    },
    {
     "name": "stdout",
     "output_type": "stream",
     "text": [
      "New/s0277/segmentations Labels in mask: 19 Length: 19\n"
     ]
    },
    {
     "name": "stderr",
     "output_type": "stream",
     "text": [
      "100%|██████████| 56/56 [00:09<00:00,  6.14it/s]\n"
     ]
    },
    {
     "name": "stdout",
     "output_type": "stream",
     "text": [
      "New/s0278/segmentations Labels in mask: 34 Length: 34\n"
     ]
    },
    {
     "name": "stderr",
     "output_type": "stream",
     "text": [
      "100%|██████████| 56/56 [00:07<00:00,  7.15it/s]\n"
     ]
    },
    {
     "name": "stdout",
     "output_type": "stream",
     "text": [
      "New/s0279/segmentations Labels in mask: 7 Length: 7\n"
     ]
    },
    {
     "name": "stderr",
     "output_type": "stream",
     "text": [
      "100%|██████████| 56/56 [00:07<00:00,  7.27it/s]\n"
     ]
    },
    {
     "name": "stdout",
     "output_type": "stream",
     "text": [
      "New/s0280/segmentations Labels in mask: 24 Length: 24\n"
     ]
    },
    {
     "name": "stderr",
     "output_type": "stream",
     "text": [
      "100%|██████████| 56/56 [00:08<00:00,  6.79it/s]\n"
     ]
    },
    {
     "name": "stdout",
     "output_type": "stream",
     "text": [
      "New/s0281/segmentations Labels in mask: 29 Length: 29\n"
     ]
    },
    {
     "name": "stderr",
     "output_type": "stream",
     "text": [
      "100%|██████████| 56/56 [00:06<00:00,  8.05it/s]\n"
     ]
    },
    {
     "name": "stdout",
     "output_type": "stream",
     "text": [
      "New/s0282/segmentations Labels in mask: 4 Length: 4\n"
     ]
    },
    {
     "name": "stderr",
     "output_type": "stream",
     "text": [
      "100%|██████████| 56/56 [00:35<00:00,  1.58it/s]\n"
     ]
    },
    {
     "name": "stdout",
     "output_type": "stream",
     "text": [
      "New/s0283/segmentations Labels in mask: 11 Length: 11\n"
     ]
    },
    {
     "name": "stderr",
     "output_type": "stream",
     "text": [
      "100%|██████████| 56/56 [00:09<00:00,  5.90it/s]\n"
     ]
    },
    {
     "name": "stdout",
     "output_type": "stream",
     "text": [
      "New/s0284/segmentations Labels in mask: 35 Length: 35\n"
     ]
    },
    {
     "name": "stderr",
     "output_type": "stream",
     "text": [
      "100%|██████████| 56/56 [00:16<00:00,  3.35it/s]\n"
     ]
    },
    {
     "name": "stdout",
     "output_type": "stream",
     "text": [
      "New/s0285/segmentations Labels in mask: 6 Length: 6\n"
     ]
    },
    {
     "name": "stderr",
     "output_type": "stream",
     "text": [
      "100%|██████████| 56/56 [00:07<00:00,  7.70it/s]\n"
     ]
    },
    {
     "name": "stdout",
     "output_type": "stream",
     "text": [
      "New/s0286/segmentations Labels in mask: 13 Length: 13\n"
     ]
    },
    {
     "name": "stderr",
     "output_type": "stream",
     "text": [
      "100%|██████████| 56/56 [00:08<00:00,  6.22it/s]\n"
     ]
    },
    {
     "name": "stdout",
     "output_type": "stream",
     "text": [
      "New/s0287/segmentations Labels in mask: 34 Length: 35\n"
     ]
    },
    {
     "name": "stderr",
     "output_type": "stream",
     "text": [
      "100%|██████████| 56/56 [00:09<00:00,  5.69it/s]\n"
     ]
    },
    {
     "name": "stdout",
     "output_type": "stream",
     "text": [
      "New/s0288/segmentations Labels in mask: 27 Length: 27\n"
     ]
    },
    {
     "name": "stderr",
     "output_type": "stream",
     "text": [
      "100%|██████████| 56/56 [00:08<00:00,  6.79it/s]\n"
     ]
    },
    {
     "name": "stdout",
     "output_type": "stream",
     "text": [
      "New/s0289/segmentations Labels in mask: 27 Length: 27\n"
     ]
    },
    {
     "name": "stderr",
     "output_type": "stream",
     "text": [
      "100%|██████████| 56/56 [00:06<00:00,  8.37it/s]\n"
     ]
    },
    {
     "name": "stdout",
     "output_type": "stream",
     "text": [
      "New/s0290/segmentations Labels in mask: 7 Length: 7\n"
     ]
    },
    {
     "name": "stderr",
     "output_type": "stream",
     "text": [
      "100%|██████████| 56/56 [00:20<00:00,  2.68it/s]\n"
     ]
    },
    {
     "name": "stdout",
     "output_type": "stream",
     "text": [
      "New/s0291/segmentations Labels in mask: 39 Length: 39\n"
     ]
    },
    {
     "name": "stderr",
     "output_type": "stream",
     "text": [
      "100%|██████████| 56/56 [00:07<00:00,  7.93it/s]\n"
     ]
    },
    {
     "name": "stdout",
     "output_type": "stream",
     "text": [
      "New/s0292/segmentations Labels in mask: 7 Length: 7\n"
     ]
    },
    {
     "name": "stderr",
     "output_type": "stream",
     "text": [
      "100%|██████████| 56/56 [00:06<00:00,  8.15it/s]\n"
     ]
    },
    {
     "name": "stdout",
     "output_type": "stream",
     "text": [
      "New/s0293/segmentations Labels in mask: 28 Length: 28\n"
     ]
    },
    {
     "name": "stderr",
     "output_type": "stream",
     "text": [
      "100%|██████████| 56/56 [00:08<00:00,  6.34it/s]\n"
     ]
    },
    {
     "name": "stdout",
     "output_type": "stream",
     "text": [
      "New/s0294/segmentations Labels in mask: 27 Length: 27\n"
     ]
    },
    {
     "name": "stderr",
     "output_type": "stream",
     "text": [
      "100%|██████████| 56/56 [00:08<00:00,  6.90it/s]\n"
     ]
    },
    {
     "name": "stdout",
     "output_type": "stream",
     "text": [
      "New/s0295/segmentations Labels in mask: 27 Length: 27\n"
     ]
    },
    {
     "name": "stderr",
     "output_type": "stream",
     "text": [
      "100%|██████████| 56/56 [00:06<00:00,  8.07it/s]\n"
     ]
    },
    {
     "name": "stdout",
     "output_type": "stream",
     "text": [
      "New/s0296/segmentations Labels in mask: 7 Length: 7\n"
     ]
    },
    {
     "name": "stderr",
     "output_type": "stream",
     "text": [
      "100%|██████████| 56/56 [00:02<00:00, 19.92it/s]\n"
     ]
    },
    {
     "name": "stdout",
     "output_type": "stream",
     "text": [
      "New/s0297/segmentations Labels in mask: 10 Length: 11\n"
     ]
    },
    {
     "name": "stderr",
     "output_type": "stream",
     "text": [
      "100%|██████████| 56/56 [00:12<00:00,  4.31it/s]\n"
     ]
    },
    {
     "name": "stdout",
     "output_type": "stream",
     "text": [
      "New/s0298/segmentations Labels in mask: 25 Length: 27\n"
     ]
    }
   ],
   "source": [
    "import glob\n",
    "import nibabel as nib\n",
    "import numpy as np\n",
    "import tqdm\n",
    "import os \n",
    "\n",
    "\n",
    "folders = glob.glob('New/s*/se*')\n",
    "folders.sort()\n",
    "\n",
    "for folder_num in range(len(folders)):\n",
    "    # Load one mask to get the shape and affine information\n",
    "    file = folders[folder_num] + '/' + label_names[0]\n",
    "    initial_mask_nii = nib.load(file)\n",
    "    mask_shape = initial_mask_nii.get_fdata().shape\n",
    "    affine = initial_mask_nii.affine\n",
    "\n",
    "    # Initialize the combined mask with zeros\n",
    "    combined_mask = np.zeros(mask_shape)\n",
    "    length = 0\n",
    "\n",
    "    for label_num in tqdm.tqdm(range(len(label_names))):\n",
    "        file = folders[folder_num] + '/' + label_names[label_num]\n",
    "        current_mask = nib.load(file).get_fdata()\n",
    "\n",
    "        # Check if the current mask has any non-zero values\n",
    "        if np.any(current_mask):\n",
    "            length += 1\n",
    "\n",
    "        # Scale the mask to assign unique label values\n",
    "        current_mask_scaled = current_mask * (label_num + 1)\n",
    "\n",
    "        # Identify overlapping regions\n",
    "        overlapping_regions = (current_mask > 0) & (combined_mask > 0)\n",
    "\n",
    "        # Set overlapping regions to zero in the combined mask\n",
    "        combined_mask[overlapping_regions] = 0\n",
    "\n",
    "        # Identify new regions to add to the combined mask\n",
    "        new_regions = (current_mask > 0) & (combined_mask == 0)\n",
    "        combined_mask[new_regions] = current_mask_scaled[new_regions]\n",
    "\n",
    "    print(folders[folder_num] + ' Labels in mask:', len(np.unique(combined_mask)), 'Length:', length+1)\n",
    "\n",
    "    # Save the combined mask\n",
    "    combined_mask_nii = nib.Nifti1Image(combined_mask, affine)\n",
    "    nib.save(combined_mask_nii, folders[folder_num] + '/combined_mask.nii.gz')\n"
   ]
  },
  {
   "cell_type": "markdown",
   "metadata": {},
   "source": [
    "# prepare images and masks folder \n"
   ]
  },
  {
   "cell_type": "code",
   "execution_count": 58,
   "metadata": {},
   "outputs": [
    {
     "name": "stdout",
     "output_type": "stream",
     "text": [
      "copying segmentation images...... \n"
     ]
    },
    {
     "name": "stderr",
     "output_type": "stream",
     "text": [
      "100%|██████████| 298/298 [00:00<00:00, 364.86it/s]\n"
     ]
    },
    {
     "name": "stdout",
     "output_type": "stream",
     "text": [
      "copying images...... \n"
     ]
    },
    {
     "name": "stderr",
     "output_type": "stream",
     "text": [
      "100%|██████████| 298/298 [00:12<00:00, 23.05it/s]"
     ]
    },
    {
     "name": "stdout",
     "output_type": "stream",
     "text": [
      "done !!!\n",
      "same number of images and labels:\n",
      "True 298 298\n"
     ]
    },
    {
     "name": "stderr",
     "output_type": "stream",
     "text": [
      "\n"
     ]
    }
   ],
   "source": [
    "import os \n",
    "os.makedirs('images', exist_ok=True)\n",
    "os.makedirs('labels', exist_ok=True)\n",
    "print('copying segmentation images...... ')\n",
    "# transfer all the mri scans in images \n",
    "import os\n",
    "import tqdm  \n",
    "folders = os.listdir('New')\n",
    "img_file = folders[0] + '/mri.nii.gz'\n",
    "img_file\n",
    "# copy the img_file into images folder with folders[0] name\n",
    "\n",
    "import shutil\n",
    "for i in tqdm.tqdm(range(len(folders))):\n",
    "    img_file = folders[i] + '/segmentations/combined_mask.nii.gz'\n",
    "    #print('copying:', img_file)\n",
    "    shutil.copy('New/'+img_file, 'labels/'+folders[i]+'.nii.gz')\n",
    "    #shutil.copy(img_file, 'images/'+folders[0]+'.nii.gz')\n",
    "\n",
    "# for images\n",
    "print('copying images...... ')\n",
    "import os\n",
    "import tqdm  \n",
    "folders = os.listdir('New')\n",
    "img_file = folders[0] + '/mri.nii.gz'\n",
    "img_file\n",
    "# copy the img_file into images folder with folders[0] name\n",
    "\n",
    "import shutil\n",
    "for i in tqdm.tqdm(range(len(folders))):\n",
    "    img_file = folders[i] + '/mri.nii.gz'\n",
    "    #print('copying:', img_file)\n",
    "    shutil.copy('New/'+img_file, 'images/'+folders[i]+'.nii.gz')\n",
    "    #shutil.copy(img_file, 'images/'+folders[0]+'.nii.gz')\n",
    "\n",
    "print('done !!!')\n",
    "print('same number of images and labels:')\n",
    "print(len(os.listdir('images')) == len(os.listdir('labels')), len(os.listdir('images')), len(os.listdir('labels')))"
   ]
  },
  {
   "cell_type": "markdown",
   "metadata": {},
   "source": [
    "# devide the dataset into train and test "
   ]
  },
  {
   "cell_type": "code",
   "execution_count": 69,
   "metadata": {},
   "outputs": [
    {
     "data": {
      "text/html": [
       "<div>\n",
       "<style scoped>\n",
       "    .dataframe tbody tr th:only-of-type {\n",
       "        vertical-align: middle;\n",
       "    }\n",
       "\n",
       "    .dataframe tbody tr th {\n",
       "        vertical-align: top;\n",
       "    }\n",
       "\n",
       "    .dataframe thead th {\n",
       "        text-align: right;\n",
       "    }\n",
       "</style>\n",
       "<table border=\"1\" class=\"dataframe\">\n",
       "  <thead>\n",
       "    <tr style=\"text-align: right;\">\n",
       "      <th></th>\n",
       "      <th>image_id</th>\n",
       "      <th>age</th>\n",
       "      <th>gender</th>\n",
       "      <th>institute</th>\n",
       "      <th>study_type</th>\n",
       "      <th>manufacturer</th>\n",
       "      <th>scanner_model</th>\n",
       "      <th>slice_thickness</th>\n",
       "      <th>scanning_sequence</th>\n",
       "      <th>repetition_time</th>\n",
       "      <th>echo_time</th>\n",
       "      <th>magnetic_field_strength</th>\n",
       "      <th>source</th>\n",
       "      <th>split</th>\n",
       "    </tr>\n",
       "  </thead>\n",
       "  <tbody>\n",
       "    <tr>\n",
       "      <th>0</th>\n",
       "      <td>s0001</td>\n",
       "      <td>NaN</td>\n",
       "      <td>NaN</td>\n",
       "      <td>C</td>\n",
       "      <td>unkown</td>\n",
       "      <td>ge</td>\n",
       "      <td>SIGNA Explorer</td>\n",
       "      <td>4.4</td>\n",
       "      <td>GR</td>\n",
       "      <td>0.01</td>\n",
       "      <td>0.00</td>\n",
       "      <td>1.5</td>\n",
       "      <td>idc</td>\n",
       "      <td>train</td>\n",
       "    </tr>\n",
       "    <tr>\n",
       "      <th>1</th>\n",
       "      <td>s0002</td>\n",
       "      <td>NaN</td>\n",
       "      <td>NaN</td>\n",
       "      <td>C</td>\n",
       "      <td>unkown</td>\n",
       "      <td>ge</td>\n",
       "      <td>Signa HDxt</td>\n",
       "      <td>6.0</td>\n",
       "      <td>SE</td>\n",
       "      <td>3.55</td>\n",
       "      <td>0.15</td>\n",
       "      <td>1.5</td>\n",
       "      <td>idc</td>\n",
       "      <td>test</td>\n",
       "    </tr>\n",
       "    <tr>\n",
       "      <th>2</th>\n",
       "      <td>s0003</td>\n",
       "      <td>NaN</td>\n",
       "      <td>NaN</td>\n",
       "      <td>C</td>\n",
       "      <td>unkown</td>\n",
       "      <td>ge</td>\n",
       "      <td>Optima MR450w</td>\n",
       "      <td>5.0</td>\n",
       "      <td>EP\\SE</td>\n",
       "      <td>8.00</td>\n",
       "      <td>0.10</td>\n",
       "      <td>1.5</td>\n",
       "      <td>idc</td>\n",
       "      <td>train</td>\n",
       "    </tr>\n",
       "    <tr>\n",
       "      <th>3</th>\n",
       "      <td>s0004</td>\n",
       "      <td>NaN</td>\n",
       "      <td>NaN</td>\n",
       "      <td>C</td>\n",
       "      <td>unkown</td>\n",
       "      <td>ge</td>\n",
       "      <td>Signa HDxt</td>\n",
       "      <td>3.0</td>\n",
       "      <td>SE</td>\n",
       "      <td>2.43</td>\n",
       "      <td>0.11</td>\n",
       "      <td>1.5</td>\n",
       "      <td>idc</td>\n",
       "      <td>train</td>\n",
       "    </tr>\n",
       "    <tr>\n",
       "      <th>4</th>\n",
       "      <td>s0005</td>\n",
       "      <td>NaN</td>\n",
       "      <td>NaN</td>\n",
       "      <td>C</td>\n",
       "      <td>unkown</td>\n",
       "      <td>ge</td>\n",
       "      <td>GENESIS_SIGNA</td>\n",
       "      <td>8.0</td>\n",
       "      <td>SE</td>\n",
       "      <td>1.53</td>\n",
       "      <td>0.16</td>\n",
       "      <td>1.5</td>\n",
       "      <td>idc</td>\n",
       "      <td>train</td>\n",
       "    </tr>\n",
       "  </tbody>\n",
       "</table>\n",
       "</div>"
      ],
      "text/plain": [
       "  image_id  age gender institute study_type manufacturer   scanner_model  \\\n",
       "0    s0001  NaN    NaN         C     unkown           ge  SIGNA Explorer   \n",
       "1    s0002  NaN    NaN         C     unkown           ge      Signa HDxt   \n",
       "2    s0003  NaN    NaN         C     unkown           ge   Optima MR450w   \n",
       "3    s0004  NaN    NaN         C     unkown           ge      Signa HDxt   \n",
       "4    s0005  NaN    NaN         C     unkown           ge   GENESIS_SIGNA   \n",
       "\n",
       "   slice_thickness scanning_sequence  repetition_time  echo_time  \\\n",
       "0              4.4                GR             0.01       0.00   \n",
       "1              6.0                SE             3.55       0.15   \n",
       "2              5.0             EP\\SE             8.00       0.10   \n",
       "3              3.0                SE             2.43       0.11   \n",
       "4              8.0                SE             1.53       0.16   \n",
       "\n",
       "   magnetic_field_strength source  split  \n",
       "0                      1.5    idc  train  \n",
       "1                      1.5    idc   test  \n",
       "2                      1.5    idc  train  \n",
       "3                      1.5    idc  train  \n",
       "4                      1.5    idc  train  "
      ]
     },
     "execution_count": 69,
     "metadata": {},
     "output_type": "execute_result"
    }
   ],
   "source": [
    "# save it to excel file \n",
    "import pandas as pd\n",
    "df = pd.read_csv('/Users/sumitpandey/Downloads/TotalsegmentatorMRI_dataset_v100/meta.csv', delimiter=';')\n",
    "df.head()\n",
    "# devide the image and labels into train and test based on df columns 'split' (train and test) and image_id save into train and test folder in subfolders images and labels\n"
   ]
  },
  {
   "cell_type": "markdown",
   "metadata": {},
   "source": [
    "# Devide the images and labels folders into train and test "
   ]
  },
  {
   "cell_type": "code",
   "execution_count": 72,
   "metadata": {},
   "outputs": [
    {
     "name": "stdout",
     "output_type": "stream",
     "text": [
      "Copied s0001.nii.gz to train/images and train/labels\n",
      "Copied s0002.nii.gz to test/images and test/labels\n",
      "Copied s0003.nii.gz to train/images and train/labels\n",
      "Copied s0004.nii.gz to train/images and train/labels\n",
      "Copied s0005.nii.gz to train/images and train/labels\n",
      "Copied s0006.nii.gz to train/images and train/labels\n",
      "Copied s0007.nii.gz to train/images and train/labels\n",
      "Copied s0008.nii.gz to train/images and train/labels\n",
      "Copied s0009.nii.gz to train/images and train/labels\n",
      "Copied s0010.nii.gz to train/images and train/labels\n",
      "Copied s0011.nii.gz to train/images and train/labels\n",
      "Copied s0012.nii.gz to train/images and train/labels\n",
      "Copied s0013.nii.gz to train/images and train/labels\n",
      "Copied s0014.nii.gz to train/images and train/labels\n",
      "Copied s0015.nii.gz to test/images and test/labels\n",
      "Copied s0016.nii.gz to test/images and test/labels\n",
      "Copied s0017.nii.gz to train/images and train/labels\n",
      "Copied s0018.nii.gz to train/images and train/labels\n",
      "Copied s0019.nii.gz to train/images and train/labels\n",
      "Copied s0020.nii.gz to train/images and train/labels\n",
      "Copied s0021.nii.gz to train/images and train/labels\n",
      "Copied s0022.nii.gz to train/images and train/labels\n",
      "Copied s0023.nii.gz to train/images and train/labels\n",
      "Copied s0024.nii.gz to test/images and test/labels\n",
      "Copied s0025.nii.gz to train/images and train/labels\n",
      "Copied s0026.nii.gz to train/images and train/labels\n",
      "Copied s0027.nii.gz to test/images and test/labels\n",
      "Copied s0028.nii.gz to train/images and train/labels\n",
      "Copied s0029.nii.gz to train/images and train/labels\n",
      "Copied s0030.nii.gz to train/images and train/labels\n",
      "Copied s0031.nii.gz to test/images and test/labels\n",
      "Copied s0032.nii.gz to train/images and train/labels\n",
      "Copied s0033.nii.gz to train/images and train/labels\n",
      "Copied s0034.nii.gz to train/images and train/labels\n",
      "Copied s0035.nii.gz to train/images and train/labels\n",
      "Copied s0036.nii.gz to train/images and train/labels\n",
      "Copied s0037.nii.gz to train/images and train/labels\n",
      "Copied s0038.nii.gz to test/images and test/labels\n",
      "Copied s0039.nii.gz to train/images and train/labels\n",
      "Copied s0040.nii.gz to train/images and train/labels\n",
      "Copied s0041.nii.gz to train/images and train/labels\n",
      "Copied s0042.nii.gz to test/images and test/labels\n",
      "Copied s0043.nii.gz to train/images and train/labels\n",
      "Copied s0044.nii.gz to train/images and train/labels\n",
      "Copied s0045.nii.gz to train/images and train/labels\n",
      "Copied s0046.nii.gz to train/images and train/labels\n",
      "Copied s0047.nii.gz to test/images and test/labels\n",
      "Copied s0048.nii.gz to train/images and train/labels\n",
      "Copied s0049.nii.gz to train/images and train/labels\n",
      "Copied s0050.nii.gz to train/images and train/labels\n",
      "Copied s0051.nii.gz to train/images and train/labels\n",
      "Copied s0052.nii.gz to train/images and train/labels\n",
      "Copied s0053.nii.gz to train/images and train/labels\n",
      "Copied s0054.nii.gz to train/images and train/labels\n",
      "Copied s0055.nii.gz to train/images and train/labels\n",
      "Copied s0056.nii.gz to test/images and test/labels\n",
      "Copied s0057.nii.gz to train/images and train/labels\n",
      "Copied s0058.nii.gz to train/images and train/labels\n",
      "Copied s0059.nii.gz to test/images and test/labels\n",
      "Copied s0060.nii.gz to train/images and train/labels\n",
      "Copied s0061.nii.gz to train/images and train/labels\n",
      "Copied s0062.nii.gz to train/images and train/labels\n",
      "Copied s0063.nii.gz to train/images and train/labels\n",
      "Copied s0064.nii.gz to train/images and train/labels\n",
      "Copied s0065.nii.gz to train/images and train/labels\n",
      "Copied s0066.nii.gz to train/images and train/labels\n",
      "Copied s0067.nii.gz to train/images and train/labels\n",
      "Copied s0068.nii.gz to train/images and train/labels\n",
      "Copied s0069.nii.gz to train/images and train/labels\n",
      "Copied s0070.nii.gz to train/images and train/labels\n",
      "Copied s0071.nii.gz to train/images and train/labels\n",
      "Copied s0072.nii.gz to train/images and train/labels\n",
      "Copied s0073.nii.gz to test/images and test/labels\n",
      "Copied s0074.nii.gz to train/images and train/labels\n",
      "Copied s0075.nii.gz to train/images and train/labels\n",
      "Copied s0076.nii.gz to train/images and train/labels\n",
      "Copied s0077.nii.gz to train/images and train/labels\n",
      "Copied s0078.nii.gz to test/images and test/labels\n",
      "Copied s0079.nii.gz to train/images and train/labels\n",
      "Copied s0080.nii.gz to train/images and train/labels\n",
      "Copied s0081.nii.gz to train/images and train/labels\n",
      "Copied s0082.nii.gz to train/images and train/labels\n",
      "Copied s0083.nii.gz to train/images and train/labels\n",
      "Copied s0084.nii.gz to train/images and train/labels\n",
      "Copied s0085.nii.gz to train/images and train/labels\n",
      "Copied s0086.nii.gz to train/images and train/labels\n",
      "Copied s0087.nii.gz to train/images and train/labels\n",
      "Copied s0088.nii.gz to train/images and train/labels\n",
      "Copied s0089.nii.gz to train/images and train/labels\n",
      "Copied s0090.nii.gz to train/images and train/labels\n",
      "Copied s0091.nii.gz to train/images and train/labels\n",
      "Copied s0092.nii.gz to train/images and train/labels\n",
      "Copied s0093.nii.gz to train/images and train/labels\n",
      "Copied s0094.nii.gz to train/images and train/labels\n",
      "Copied s0095.nii.gz to train/images and train/labels\n",
      "Copied s0096.nii.gz to train/images and train/labels\n",
      "Copied s0097.nii.gz to train/images and train/labels\n",
      "Copied s0098.nii.gz to train/images and train/labels\n",
      "Copied s0099.nii.gz to train/images and train/labels\n",
      "Copied s0100.nii.gz to test/images and test/labels\n",
      "Copied s0101.nii.gz to train/images and train/labels\n",
      "Copied s0102.nii.gz to train/images and train/labels\n",
      "Copied s0103.nii.gz to train/images and train/labels\n",
      "Copied s0104.nii.gz to train/images and train/labels\n",
      "Copied s0105.nii.gz to test/images and test/labels\n",
      "Copied s0106.nii.gz to train/images and train/labels\n",
      "Copied s0107.nii.gz to train/images and train/labels\n",
      "Copied s0108.nii.gz to train/images and train/labels\n",
      "Copied s0109.nii.gz to test/images and test/labels\n",
      "Copied s0110.nii.gz to train/images and train/labels\n",
      "Copied s0111.nii.gz to train/images and train/labels\n",
      "Copied s0112.nii.gz to train/images and train/labels\n",
      "Copied s0113.nii.gz to train/images and train/labels\n",
      "Copied s0114.nii.gz to test/images and test/labels\n",
      "Copied s0115.nii.gz to train/images and train/labels\n",
      "Copied s0116.nii.gz to train/images and train/labels\n",
      "Copied s0117.nii.gz to train/images and train/labels\n",
      "Copied s0118.nii.gz to train/images and train/labels\n",
      "Copied s0119.nii.gz to train/images and train/labels\n",
      "Copied s0120.nii.gz to train/images and train/labels\n",
      "Copied s0121.nii.gz to train/images and train/labels\n",
      "Copied s0122.nii.gz to train/images and train/labels\n",
      "Copied s0123.nii.gz to train/images and train/labels\n",
      "Copied s0124.nii.gz to train/images and train/labels\n",
      "Copied s0125.nii.gz to train/images and train/labels\n",
      "Copied s0126.nii.gz to train/images and train/labels\n",
      "Copied s0127.nii.gz to train/images and train/labels\n",
      "Copied s0128.nii.gz to train/images and train/labels\n",
      "Copied s0129.nii.gz to test/images and test/labels\n",
      "Copied s0130.nii.gz to test/images and test/labels\n",
      "Copied s0131.nii.gz to train/images and train/labels\n",
      "Copied s0132.nii.gz to train/images and train/labels\n",
      "Copied s0133.nii.gz to train/images and train/labels\n",
      "Copied s0134.nii.gz to train/images and train/labels\n",
      "Copied s0135.nii.gz to train/images and train/labels\n",
      "Copied s0136.nii.gz to train/images and train/labels\n",
      "Copied s0137.nii.gz to train/images and train/labels\n",
      "Copied s0138.nii.gz to train/images and train/labels\n",
      "Copied s0139.nii.gz to train/images and train/labels\n",
      "Copied s0140.nii.gz to train/images and train/labels\n",
      "Copied s0141.nii.gz to train/images and train/labels\n",
      "Copied s0142.nii.gz to test/images and test/labels\n",
      "Copied s0143.nii.gz to test/images and test/labels\n",
      "Copied s0144.nii.gz to train/images and train/labels\n",
      "Copied s0145.nii.gz to test/images and test/labels\n",
      "Copied s0146.nii.gz to train/images and train/labels\n",
      "Copied s0147.nii.gz to train/images and train/labels\n",
      "Copied s0148.nii.gz to train/images and train/labels\n",
      "Copied s0149.nii.gz to train/images and train/labels\n",
      "Copied s0150.nii.gz to test/images and test/labels\n",
      "Copied s0151.nii.gz to train/images and train/labels\n",
      "Copied s0152.nii.gz to train/images and train/labels\n",
      "Copied s0153.nii.gz to train/images and train/labels\n",
      "Copied s0154.nii.gz to train/images and train/labels\n",
      "Copied s0155.nii.gz to train/images and train/labels\n",
      "Copied s0156.nii.gz to train/images and train/labels\n",
      "Copied s0157.nii.gz to train/images and train/labels\n",
      "Copied s0158.nii.gz to train/images and train/labels\n",
      "Copied s0159.nii.gz to train/images and train/labels\n",
      "Copied s0160.nii.gz to train/images and train/labels\n",
      "Copied s0161.nii.gz to train/images and train/labels\n",
      "Copied s0162.nii.gz to train/images and train/labels\n",
      "Copied s0163.nii.gz to train/images and train/labels\n",
      "Copied s0164.nii.gz to train/images and train/labels\n",
      "Copied s0165.nii.gz to train/images and train/labels\n",
      "Copied s0166.nii.gz to train/images and train/labels\n",
      "Copied s0167.nii.gz to train/images and train/labels\n",
      "Copied s0168.nii.gz to train/images and train/labels\n",
      "Copied s0169.nii.gz to train/images and train/labels\n",
      "Copied s0170.nii.gz to train/images and train/labels\n",
      "Copied s0171.nii.gz to train/images and train/labels\n",
      "Copied s0172.nii.gz to train/images and train/labels\n",
      "Copied s0173.nii.gz to train/images and train/labels\n",
      "Copied s0174.nii.gz to train/images and train/labels\n",
      "Copied s0175.nii.gz to test/images and test/labels\n",
      "Copied s0176.nii.gz to train/images and train/labels\n",
      "Copied s0177.nii.gz to train/images and train/labels\n",
      "Copied s0178.nii.gz to train/images and train/labels\n",
      "Copied s0179.nii.gz to train/images and train/labels\n",
      "Copied s0180.nii.gz to train/images and train/labels\n",
      "Copied s0181.nii.gz to train/images and train/labels\n",
      "Copied s0182.nii.gz to train/images and train/labels\n",
      "Copied s0183.nii.gz to train/images and train/labels\n",
      "Copied s0184.nii.gz to train/images and train/labels\n",
      "Copied s0185.nii.gz to train/images and train/labels\n",
      "Copied s0186.nii.gz to train/images and train/labels\n",
      "Copied s0187.nii.gz to train/images and train/labels\n",
      "Copied s0188.nii.gz to train/images and train/labels\n",
      "Copied s0189.nii.gz to train/images and train/labels\n",
      "Copied s0190.nii.gz to train/images and train/labels\n",
      "Copied s0191.nii.gz to train/images and train/labels\n",
      "Copied s0192.nii.gz to train/images and train/labels\n",
      "Copied s0193.nii.gz to train/images and train/labels\n",
      "Copied s0194.nii.gz to train/images and train/labels\n",
      "Copied s0195.nii.gz to train/images and train/labels\n",
      "Copied s0196.nii.gz to train/images and train/labels\n",
      "Copied s0197.nii.gz to train/images and train/labels\n",
      "Copied s0198.nii.gz to train/images and train/labels\n",
      "Copied s0199.nii.gz to train/images and train/labels\n",
      "Copied s0200.nii.gz to train/images and train/labels\n",
      "Copied s0201.nii.gz to train/images and train/labels\n",
      "Copied s0202.nii.gz to train/images and train/labels\n",
      "Copied s0203.nii.gz to train/images and train/labels\n",
      "Copied s0204.nii.gz to train/images and train/labels\n",
      "Copied s0205.nii.gz to train/images and train/labels\n",
      "Copied s0206.nii.gz to train/images and train/labels\n",
      "Copied s0207.nii.gz to train/images and train/labels\n",
      "Copied s0208.nii.gz to train/images and train/labels\n",
      "Copied s0209.nii.gz to train/images and train/labels\n",
      "Copied s0210.nii.gz to train/images and train/labels\n",
      "Copied s0211.nii.gz to train/images and train/labels\n",
      "Copied s0212.nii.gz to train/images and train/labels\n",
      "Copied s0213.nii.gz to train/images and train/labels\n",
      "Copied s0214.nii.gz to train/images and train/labels\n",
      "Copied s0215.nii.gz to train/images and train/labels\n",
      "Copied s0216.nii.gz to test/images and test/labels\n",
      "Copied s0217.nii.gz to train/images and train/labels\n",
      "Copied s0218.nii.gz to train/images and train/labels\n",
      "Copied s0219.nii.gz to train/images and train/labels\n",
      "Copied s0220.nii.gz to train/images and train/labels\n",
      "Copied s0221.nii.gz to train/images and train/labels\n",
      "Copied s0222.nii.gz to train/images and train/labels\n",
      "Copied s0223.nii.gz to train/images and train/labels\n",
      "Copied s0224.nii.gz to train/images and train/labels\n",
      "Copied s0225.nii.gz to train/images and train/labels\n",
      "Copied s0226.nii.gz to train/images and train/labels\n",
      "Copied s0227.nii.gz to train/images and train/labels\n",
      "Copied s0228.nii.gz to train/images and train/labels\n",
      "Copied s0229.nii.gz to train/images and train/labels\n",
      "Copied s0230.nii.gz to train/images and train/labels\n",
      "Copied s0231.nii.gz to train/images and train/labels\n",
      "Copied s0232.nii.gz to train/images and train/labels\n",
      "Copied s0233.nii.gz to train/images and train/labels\n",
      "Copied s0234.nii.gz to train/images and train/labels\n",
      "Copied s0235.nii.gz to train/images and train/labels\n",
      "Copied s0236.nii.gz to train/images and train/labels\n",
      "Copied s0237.nii.gz to train/images and train/labels\n",
      "Copied s0238.nii.gz to train/images and train/labels\n",
      "Copied s0239.nii.gz to train/images and train/labels\n",
      "Copied s0240.nii.gz to train/images and train/labels\n",
      "Copied s0241.nii.gz to train/images and train/labels\n",
      "Copied s0242.nii.gz to train/images and train/labels\n",
      "Copied s0243.nii.gz to train/images and train/labels\n",
      "Copied s0244.nii.gz to train/images and train/labels\n",
      "Copied s0245.nii.gz to train/images and train/labels\n",
      "Copied s0246.nii.gz to train/images and train/labels\n",
      "Copied s0247.nii.gz to train/images and train/labels\n",
      "Copied s0248.nii.gz to train/images and train/labels\n",
      "Copied s0249.nii.gz to train/images and train/labels\n",
      "Copied s0250.nii.gz to train/images and train/labels\n",
      "Copied s0251.nii.gz to train/images and train/labels\n",
      "Copied s0252.nii.gz to train/images and train/labels\n",
      "Copied s0253.nii.gz to train/images and train/labels\n",
      "Copied s0254.nii.gz to train/images and train/labels\n",
      "Copied s0255.nii.gz to train/images and train/labels\n",
      "Copied s0256.nii.gz to train/images and train/labels\n",
      "Copied s0257.nii.gz to train/images and train/labels\n",
      "Copied s0258.nii.gz to train/images and train/labels\n",
      "Copied s0259.nii.gz to train/images and train/labels\n",
      "Copied s0260.nii.gz to train/images and train/labels\n",
      "Copied s0261.nii.gz to train/images and train/labels\n",
      "Copied s0262.nii.gz to train/images and train/labels\n",
      "Copied s0263.nii.gz to train/images and train/labels\n",
      "Copied s0264.nii.gz to train/images and train/labels\n",
      "Copied s0265.nii.gz to train/images and train/labels\n",
      "Copied s0266.nii.gz to train/images and train/labels\n",
      "Copied s0267.nii.gz to train/images and train/labels\n",
      "Copied s0268.nii.gz to train/images and train/labels\n",
      "Copied s0269.nii.gz to train/images and train/labels\n",
      "Copied s0270.nii.gz to train/images and train/labels\n",
      "Copied s0271.nii.gz to train/images and train/labels\n",
      "Copied s0272.nii.gz to train/images and train/labels\n",
      "Copied s0273.nii.gz to train/images and train/labels\n",
      "Copied s0274.nii.gz to train/images and train/labels\n",
      "Copied s0275.nii.gz to train/images and train/labels\n",
      "Copied s0276.nii.gz to train/images and train/labels\n",
      "Copied s0277.nii.gz to train/images and train/labels\n",
      "Copied s0278.nii.gz to train/images and train/labels\n",
      "Copied s0279.nii.gz to train/images and train/labels\n",
      "Copied s0280.nii.gz to test/images and test/labels\n",
      "Copied s0281.nii.gz to train/images and train/labels\n",
      "Copied s0282.nii.gz to train/images and train/labels\n",
      "Copied s0283.nii.gz to train/images and train/labels\n",
      "Copied s0284.nii.gz to test/images and test/labels\n",
      "Copied s0285.nii.gz to train/images and train/labels\n",
      "Copied s0286.nii.gz to test/images and test/labels\n",
      "Copied s0287.nii.gz to test/images and test/labels\n",
      "Copied s0288.nii.gz to train/images and train/labels\n",
      "Copied s0289.nii.gz to train/images and train/labels\n",
      "Copied s0290.nii.gz to train/images and train/labels\n",
      "Copied s0291.nii.gz to train/images and train/labels\n",
      "Copied s0292.nii.gz to train/images and train/labels\n",
      "Copied s0293.nii.gz to test/images and test/labels\n",
      "Copied s0294.nii.gz to train/images and train/labels\n",
      "Copied s0295.nii.gz to train/images and train/labels\n",
      "Copied s0296.nii.gz to train/images and train/labels\n",
      "Copied s0297.nii.gz to train/images and train/labels\n",
      "Copied s0298.nii.gz to train/images and train/labels\n",
      "Files have been successfully divided into train and test sets.\n"
     ]
    }
   ],
   "source": [
    "import pandas as pd\n",
    "import os\n",
    "import shutil\n",
    "\n",
    "# Load the CSV file into a DataFrame\n",
    "df = pd.read_csv('/Users/sumitpandey/Downloads/TotalsegmentatorMRI_dataset_v100/meta.csv', delimiter=';')\n",
    "\n",
    "# Define the source directories where your images and labels are currently stored\n",
    "source_images_dir = 'images'  # Replace with your actual images directory\n",
    "source_labels_dir = 'labels'  # Replace with your actual labels directory\n",
    "\n",
    "# Define the base directory where you want to save the train/test folders\n",
    "destination_base_dir = 'dataset'  # Replace with your desired destination directory\n",
    "os.makedirs(destination_base_dir, exist_ok=True)\n",
    "\n",
    "# Iterate over each row in the DataFrame\n",
    "for index, row in df.iterrows():\n",
    "    split = row['split']  # 'train' or 'test'\n",
    "    image_id = row['image_id']\n",
    "    \n",
    "    # Construct the source file paths\n",
    "    image_file = os.path.join(source_images_dir, f'{image_id}.nii.gz')\n",
    "    label_file = os.path.join(source_labels_dir, f'{image_id}.nii.gz')\n",
    "    \n",
    "    # Construct the destination directories\n",
    "    dest_image_dir = os.path.join(destination_base_dir, split, 'images')\n",
    "    dest_label_dir = os.path.join(destination_base_dir, split, 'labels')\n",
    "    \n",
    "    # Create the destination directories if they don't exist\n",
    "    os.makedirs(dest_image_dir, exist_ok=True)\n",
    "    os.makedirs(dest_label_dir, exist_ok=True)\n",
    "    \n",
    "    # Construct the destination file paths\n",
    "    dest_image_file = os.path.join(dest_image_dir, f'{image_id}.nii.gz')\n",
    "    dest_label_file = os.path.join(dest_label_dir, f'{image_id}.nii.gz')\n",
    "    \n",
    "    # Copy the image and label files to the destination directories\n",
    "    shutil.copy2(image_file, dest_image_file)\n",
    "    shutil.copy2(label_file, dest_label_file)\n",
    "    \n",
    "    # Optional: Print progress\n",
    "    print(f'Copied {image_id}.nii.gz to {split}/images and {split}/labels')\n",
    "\n",
    "print('Files have been successfully divided into train and test sets.')\n"
   ]
  },
  {
   "cell_type": "code",
   "execution_count": null,
   "metadata": {},
   "outputs": [],
   "source": []
  }
 ],
 "metadata": {
  "kernelspec": {
   "display_name": "med_img",
   "language": "python",
   "name": "python3"
  },
  "language_info": {
   "codemirror_mode": {
    "name": "ipython",
    "version": 3
   },
   "file_extension": ".py",
   "mimetype": "text/x-python",
   "name": "python",
   "nbconvert_exporter": "python",
   "pygments_lexer": "ipython3",
   "version": "3.9.19"
  }
 },
 "nbformat": 4,
 "nbformat_minor": 2
}
