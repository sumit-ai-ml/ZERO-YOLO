{
 "cells": [
  {
   "cell_type": "code",
   "execution_count": 55,
   "metadata": {},
   "outputs": [],
   "source": [
    "import glob\n",
    "img = glob.glob('Totalsegmentator_dataset_v201/*/segmentations/')\n",
    "len(img)\n",
    "for i in range(len(img)):\n",
    "    scan = glob.glob(img[i]+'*')\n",
    "    #print(len(scan))\n"
   ]
  },
  {
   "cell_type": "code",
   "execution_count": 56,
   "metadata": {},
   "outputs": [
    {
     "data": {
      "text/plain": [
       "'/Users/trl102/Downloads/scan'"
      ]
     },
     "execution_count": 56,
     "metadata": {},
     "output_type": "execute_result"
    }
   ],
   "source": [
    "pwd"
   ]
  },
  {
   "cell_type": "code",
   "execution_count": 57,
   "metadata": {},
   "outputs": [
    {
     "name": "stdout",
     "output_type": "stream",
     "text": [
      "/Users/trl102/Downloads/scan/Totalsegmentator_dataset_v201\n"
     ]
    }
   ],
   "source": [
    "cd Totalsegmentator_dataset_v201"
   ]
  },
  {
   "cell_type": "code",
   "execution_count": 59,
   "metadata": {},
   "outputs": [
    {
     "name": "stdout",
     "output_type": "stream",
     "text": [
      "/Users/trl102/Downloads/scan/Totalsegmentator_dataset_v201/s0001\n"
     ]
    }
   ],
   "source": [
    "cd s0001//"
   ]
  },
  {
   "cell_type": "code",
   "execution_count": 64,
   "metadata": {},
   "outputs": [
    {
     "name": "stdout",
     "output_type": "stream",
     "text": [
      "[Errno 2] No such file or directory: 'segmentations/'\n",
      "/Users/trl102/Downloads/scan/Totalsegmentator_dataset_v201/s0001/segmentations\n"
     ]
    }
   ],
   "source": [
    "cd segmentations/"
   ]
  },
  {
   "cell_type": "code",
   "execution_count": 65,
   "metadata": {},
   "outputs": [
    {
     "name": "stdout",
     "output_type": "stream",
     "text": [
      "adrenal_gland_left.nii.gz            rib_left_4.nii.gz\n",
      "adrenal_gland_right.nii.gz           rib_left_5.nii.gz\n",
      "aorta.nii.gz                         rib_left_6.nii.gz\n",
      "atrial_appendage_left.nii.gz         rib_left_7.nii.gz\n",
      "autochthon_left.nii.gz               rib_left_8.nii.gz\n",
      "autochthon_right.nii.gz              rib_left_9.nii.gz\n",
      "brachiocephalic_trunk.nii.gz         rib_right_1.nii.gz\n",
      "brachiocephalic_vein_left.nii.gz     rib_right_10.nii.gz\n",
      "brachiocephalic_vein_right.nii.gz    rib_right_11.nii.gz\n",
      "brain.nii.gz                         rib_right_12.nii.gz\n",
      "clavicula_left.nii.gz                rib_right_2.nii.gz\n",
      "clavicula_right.nii.gz               rib_right_3.nii.gz\n",
      "colon.nii.gz                         rib_right_4.nii.gz\n",
      "common_carotid_artery_left.nii.gz    rib_right_5.nii.gz\n",
      "common_carotid_artery_right.nii.gz   rib_right_6.nii.gz\n",
      "costal_cartilages.nii.gz             rib_right_7.nii.gz\n",
      "duodenum.nii.gz                      rib_right_8.nii.gz\n",
      "esophagus.nii.gz                     rib_right_9.nii.gz\n",
      "femur_left.nii.gz                    sacrum.nii.gz\n",
      "femur_right.nii.gz                   scapula_left.nii.gz\n",
      "gallbladder.nii.gz                   scapula_right.nii.gz\n",
      "gluteus_maximus_left.nii.gz          skull.nii.gz\n",
      "gluteus_maximus_right.nii.gz         small_bowel.nii.gz\n",
      "gluteus_medius_left.nii.gz           spinal_cord.nii.gz\n",
      "gluteus_medius_right.nii.gz          spleen.nii.gz\n",
      "gluteus_minimus_left.nii.gz          sternum.nii.gz\n",
      "gluteus_minimus_right.nii.gz         stomach.nii.gz\n",
      "heart.nii.gz                         subclavian_artery_left.nii.gz\n",
      "hip_left.nii.gz                      subclavian_artery_right.nii.gz\n",
      "hip_right.nii.gz                     superior_vena_cava.nii.gz\n",
      "humerus_left.nii.gz                  thyroid_gland.nii.gz\n",
      "humerus_right.nii.gz                 trachea.nii.gz\n",
      "iliac_artery_left.nii.gz             urinary_bladder.nii.gz\n",
      "iliac_artery_right.nii.gz            vertebrae_C1.nii.gz\n",
      "iliac_vena_left.nii.gz               vertebrae_C2.nii.gz\n",
      "iliac_vena_right.nii.gz              vertebrae_C3.nii.gz\n",
      "iliopsoas_left.nii.gz                vertebrae_C4.nii.gz\n",
      "iliopsoas_right.nii.gz               vertebrae_C5.nii.gz\n",
      "inferior_vena_cava.nii.gz            vertebrae_C6.nii.gz\n",
      "kidney_cyst_left.nii.gz              vertebrae_C7.nii.gz\n",
      "kidney_cyst_right.nii.gz             vertebrae_L1.nii.gz\n",
      "kidney_left.nii.gz                   vertebrae_L2.nii.gz\n",
      "kidney_right.nii.gz                  vertebrae_L3.nii.gz\n",
      "liver.nii.gz                         vertebrae_L4.nii.gz\n",
      "lung_lower_lobe_left.nii.gz          vertebrae_L5.nii.gz\n",
      "lung_lower_lobe_right.nii.gz         vertebrae_S1.nii.gz\n",
      "lung_middle_lobe_right.nii.gz        vertebrae_T1.nii.gz\n",
      "lung_upper_lobe_left.nii.gz          vertebrae_T10.nii.gz\n",
      "lung_upper_lobe_right.nii.gz         vertebrae_T11.nii.gz\n",
      "pancreas.nii.gz                      vertebrae_T12.nii.gz\n",
      "portal_vein_and_splenic_vein.nii.gz  vertebrae_T2.nii.gz\n",
      "prostate.nii.gz                      vertebrae_T3.nii.gz\n",
      "pulmonary_vein.nii.gz                vertebrae_T4.nii.gz\n",
      "rib_left_1.nii.gz                    vertebrae_T5.nii.gz\n",
      "rib_left_10.nii.gz                   vertebrae_T6.nii.gz\n",
      "rib_left_11.nii.gz                   vertebrae_T7.nii.gz\n",
      "rib_left_12.nii.gz                   vertebrae_T8.nii.gz\n",
      "rib_left_2.nii.gz                    vertebrae_T9.nii.gz\n",
      "rib_left_3.nii.gz\n"
     ]
    }
   ],
   "source": [
    "ls"
   ]
  },
  {
   "cell_type": "markdown",
   "metadata": {},
   "source": [
    "# mask labels"
   ]
  },
  {
   "cell_type": "code",
   "execution_count": 35,
   "metadata": {},
   "outputs": [],
   "source": [
    "import os \n",
    "import pandas as pd \n",
    "\n",
    "all_scans =os.listdir('Totalsegmentator_dataset_v201/s1391/segmentations/')\n",
    "all_scans.sort()\n",
    "all_scans\n",
    "df = pd.DataFrame(all_scans)\n",
    "df.to_excel('mask_label.xlsx')"
   ]
  },
  {
   "cell_type": "code",
   "execution_count": null,
   "metadata": {},
   "outputs": [],
   "source": [
    "Totalsegmentator_dataset_v201/s0003/ct.nii.gz"
   ]
  },
  {
   "cell_type": "markdown",
   "metadata": {},
   "source": [
    "# Devide the datset based on split column value 'train' or 'test'\n",
    "\n"
   ]
  },
  {
   "cell_type": "code",
   "execution_count": 10,
   "metadata": {},
   "outputs": [
    {
     "name": "stdout",
     "output_type": "stream",
     "text": [
      "Index(['image_id', 'age', 'gender', 'institute', 'study_type', 'split',\n",
      "       'manufacturer', 'scanner_model', 'kvp', 'pathology',\n",
      "       'pathology_location'],\n",
      "      dtype='object')\n"
     ]
    },
    {
     "name": "stderr",
     "output_type": "stream",
     "text": [
      "100%|██████████| 1082/1082 [00:20<00:00, 52.71it/s]\n"
     ]
    }
   ],
   "source": [
    "# read the mketa.xlsx file \n",
    "import pandas as pd\n",
    "df = pd.read_excel('meta.xlsx')\n",
    "# select only train values in split column\n",
    "df = df[df['split']=='train']\n",
    "print(df.columns)\n",
    "# make directories for train and test\n",
    "import os\n",
    "os.makedirs('dataset_nii/train/images', exist_ok=True)\n",
    "os.makedirs('dataset_nii/train/labels', exist_ok=True)\n",
    "os.makedirs('dataset_nii/test/images', exist_ok=True)\n",
    "os.makedirs('dataset_nii/test/labels', exist_ok=True)\n",
    "\n",
    "# get the name of images and labels\n",
    "files = df['image_id'].values\n",
    "# from these folders get the images and labels\n",
    "image_folder = 'New'\n",
    "label_folder = 'segmentations' \n",
    "import glob \n",
    "import tqdm\n",
    "for i in tqdm.tqdm(range(len(files))):\n",
    "\n",
    "    images = 'New/'+files[i]+'/ct.nii.gz'\n",
    "    labels = 'New/'+files[i]+'/segmentations/combined_mask.nii.gz'\n",
    "    # copy the images, change the name of the images sand then save them in the train folder\n",
    "    import shutil\n",
    "    shutil.copy(images, 'dataset_nii/train/images/'+files[i]+'.nii.gz') \n",
    "    shutil.copy(labels, 'dataset_nii/train/labels/'+files[i]+'.nii.gz')\n",
    "\n",
    "\n"
   ]
  },
  {
   "cell_type": "code",
   "execution_count": 11,
   "metadata": {},
   "outputs": [
    {
     "name": "stdout",
     "output_type": "stream",
     "text": [
      "Index(['image_id', 'age', 'gender', 'institute', 'study_type', 'split',\n",
      "       'manufacturer', 'scanner_model', 'kvp', 'pathology',\n",
      "       'pathology_location'],\n",
      "      dtype='object')\n"
     ]
    },
    {
     "name": "stderr",
     "output_type": "stream",
     "text": [
      "100%|██████████| 89/89 [00:02<00:00, 41.85it/s]\n"
     ]
    }
   ],
   "source": [
    "# read the mketa.xlsx file \n",
    "import pandas as pd\n",
    "df = pd.read_excel('meta.xlsx')\n",
    "# select only train values in split column\n",
    "df = df[df['split']=='test']\n",
    "print(df.columns)\n",
    "# make directories for train and test\n",
    "import os\n",
    "os.makedirs('dataset_nii/train/images', exist_ok=True)\n",
    "os.makedirs('dataset_nii/train/labels', exist_ok=True)\n",
    "os.makedirs('dataset_nii/test/images', exist_ok=True)\n",
    "os.makedirs('dataset_nii/test/labels', exist_ok=True)\n",
    "\n",
    "# get the name of images and labels\n",
    "files = df['image_id'].values\n",
    "# from these folders get the images and labels\n",
    "image_folder = 'New'\n",
    "label_folder = 'segmentations' \n",
    "import glob \n",
    "import tqdm\n",
    "for i in tqdm.tqdm(range(len(files))):\n",
    "\n",
    "    images = 'New/'+files[i]+'/ct.nii.gz'\n",
    "    labels = 'New/'+files[i]+'/segmentations/combined_mask.nii.gz'\n",
    "    # copy the images, change the name of the images sand then save them in the train folder\n",
    "    import shutil\n",
    "    shutil.copy(images, 'dataset_nii/test/images/'+files[i]+'.nii.gz') \n",
    "    shutil.copy(labels, 'dataset_nii/test/labels/'+files[i]+'.nii.gz')\n",
    "\n",
    "\n"
   ]
  },
  {
   "cell_type": "code",
   "execution_count": 13,
   "metadata": {},
   "outputs": [
    {
     "name": "stdout",
     "output_type": "stream",
     "text": [
      "True True\n"
     ]
    }
   ],
   "source": [
    "print(len('datase_nii/train/images/') == len('datase_nii/train/labels/'), len('datase_nii/test/images/') == len('datase_nii/test/labels/'))"
   ]
  },
  {
   "cell_type": "code",
   "execution_count": null,
   "metadata": {},
   "outputs": [],
   "source": []
  }
 ],
 "metadata": {
  "kernelspec": {
   "display_name": "medimg",
   "language": "python",
   "name": "python3"
  },
  "language_info": {
   "codemirror_mode": {
    "name": "ipython",
    "version": 3
   },
   "file_extension": ".py",
   "mimetype": "text/x-python",
   "name": "python",
   "nbconvert_exporter": "python",
   "pygments_lexer": "ipython3",
   "version": "3.12.4"
  }
 },
 "nbformat": 4,
 "nbformat_minor": 2
}
